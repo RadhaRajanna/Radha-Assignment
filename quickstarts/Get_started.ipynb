{
  "cells": [
    {
      "cell_type": "markdown",
      "metadata": {
        "id": "NtVOlmDSHmh4"
      },
      "source": [
        "##### Copyright 2025 Google LLC."
      ]
    },
    {
      "cell_type": "code",
      "source": [
        "\n",
        "from google.colab import files\n",
        "uploaded = files.upload()  # This will open a file picker\n"
      ],
      "metadata": {
        "id": "ZytGa8J6_cWx",
        "outputId": "87304902-9c94-4418-aa1c-6d9589667009",
        "colab": {
          "base_uri": "https://localhost:8080/",
          "height": 73
        }
      },
      "execution_count": 2,
      "outputs": [
        {
          "output_type": "display_data",
          "data": {
            "text/plain": [
              "<IPython.core.display.HTML object>"
            ],
            "text/html": [
              "\n",
              "     <input type=\"file\" id=\"files-032dcad9-d8e7-4308-b314-b6dc4a2997f9\" name=\"files[]\" multiple disabled\n",
              "        style=\"border:none\" />\n",
              "     <output id=\"result-032dcad9-d8e7-4308-b314-b6dc4a2997f9\">\n",
              "      Upload widget is only available when the cell has been executed in the\n",
              "      current browser session. Please rerun this cell to enable.\n",
              "      </output>\n",
              "      <script>// Copyright 2017 Google LLC\n",
              "//\n",
              "// Licensed under the Apache License, Version 2.0 (the \"License\");\n",
              "// you may not use this file except in compliance with the License.\n",
              "// You may obtain a copy of the License at\n",
              "//\n",
              "//      http://www.apache.org/licenses/LICENSE-2.0\n",
              "//\n",
              "// Unless required by applicable law or agreed to in writing, software\n",
              "// distributed under the License is distributed on an \"AS IS\" BASIS,\n",
              "// WITHOUT WARRANTIES OR CONDITIONS OF ANY KIND, either express or implied.\n",
              "// See the License for the specific language governing permissions and\n",
              "// limitations under the License.\n",
              "\n",
              "/**\n",
              " * @fileoverview Helpers for google.colab Python module.\n",
              " */\n",
              "(function(scope) {\n",
              "function span(text, styleAttributes = {}) {\n",
              "  const element = document.createElement('span');\n",
              "  element.textContent = text;\n",
              "  for (const key of Object.keys(styleAttributes)) {\n",
              "    element.style[key] = styleAttributes[key];\n",
              "  }\n",
              "  return element;\n",
              "}\n",
              "\n",
              "// Max number of bytes which will be uploaded at a time.\n",
              "const MAX_PAYLOAD_SIZE = 100 * 1024;\n",
              "\n",
              "function _uploadFiles(inputId, outputId) {\n",
              "  const steps = uploadFilesStep(inputId, outputId);\n",
              "  const outputElement = document.getElementById(outputId);\n",
              "  // Cache steps on the outputElement to make it available for the next call\n",
              "  // to uploadFilesContinue from Python.\n",
              "  outputElement.steps = steps;\n",
              "\n",
              "  return _uploadFilesContinue(outputId);\n",
              "}\n",
              "\n",
              "// This is roughly an async generator (not supported in the browser yet),\n",
              "// where there are multiple asynchronous steps and the Python side is going\n",
              "// to poll for completion of each step.\n",
              "// This uses a Promise to block the python side on completion of each step,\n",
              "// then passes the result of the previous step as the input to the next step.\n",
              "function _uploadFilesContinue(outputId) {\n",
              "  const outputElement = document.getElementById(outputId);\n",
              "  const steps = outputElement.steps;\n",
              "\n",
              "  const next = steps.next(outputElement.lastPromiseValue);\n",
              "  return Promise.resolve(next.value.promise).then((value) => {\n",
              "    // Cache the last promise value to make it available to the next\n",
              "    // step of the generator.\n",
              "    outputElement.lastPromiseValue = value;\n",
              "    return next.value.response;\n",
              "  });\n",
              "}\n",
              "\n",
              "/**\n",
              " * Generator function which is called between each async step of the upload\n",
              " * process.\n",
              " * @param {string} inputId Element ID of the input file picker element.\n",
              " * @param {string} outputId Element ID of the output display.\n",
              " * @return {!Iterable<!Object>} Iterable of next steps.\n",
              " */\n",
              "function* uploadFilesStep(inputId, outputId) {\n",
              "  const inputElement = document.getElementById(inputId);\n",
              "  inputElement.disabled = false;\n",
              "\n",
              "  const outputElement = document.getElementById(outputId);\n",
              "  outputElement.innerHTML = '';\n",
              "\n",
              "  const pickedPromise = new Promise((resolve) => {\n",
              "    inputElement.addEventListener('change', (e) => {\n",
              "      resolve(e.target.files);\n",
              "    });\n",
              "  });\n",
              "\n",
              "  const cancel = document.createElement('button');\n",
              "  inputElement.parentElement.appendChild(cancel);\n",
              "  cancel.textContent = 'Cancel upload';\n",
              "  const cancelPromise = new Promise((resolve) => {\n",
              "    cancel.onclick = () => {\n",
              "      resolve(null);\n",
              "    };\n",
              "  });\n",
              "\n",
              "  // Wait for the user to pick the files.\n",
              "  const files = yield {\n",
              "    promise: Promise.race([pickedPromise, cancelPromise]),\n",
              "    response: {\n",
              "      action: 'starting',\n",
              "    }\n",
              "  };\n",
              "\n",
              "  cancel.remove();\n",
              "\n",
              "  // Disable the input element since further picks are not allowed.\n",
              "  inputElement.disabled = true;\n",
              "\n",
              "  if (!files) {\n",
              "    return {\n",
              "      response: {\n",
              "        action: 'complete',\n",
              "      }\n",
              "    };\n",
              "  }\n",
              "\n",
              "  for (const file of files) {\n",
              "    const li = document.createElement('li');\n",
              "    li.append(span(file.name, {fontWeight: 'bold'}));\n",
              "    li.append(span(\n",
              "        `(${file.type || 'n/a'}) - ${file.size} bytes, ` +\n",
              "        `last modified: ${\n",
              "            file.lastModifiedDate ? file.lastModifiedDate.toLocaleDateString() :\n",
              "                                    'n/a'} - `));\n",
              "    const percent = span('0% done');\n",
              "    li.appendChild(percent);\n",
              "\n",
              "    outputElement.appendChild(li);\n",
              "\n",
              "    const fileDataPromise = new Promise((resolve) => {\n",
              "      const reader = new FileReader();\n",
              "      reader.onload = (e) => {\n",
              "        resolve(e.target.result);\n",
              "      };\n",
              "      reader.readAsArrayBuffer(file);\n",
              "    });\n",
              "    // Wait for the data to be ready.\n",
              "    let fileData = yield {\n",
              "      promise: fileDataPromise,\n",
              "      response: {\n",
              "        action: 'continue',\n",
              "      }\n",
              "    };\n",
              "\n",
              "    // Use a chunked sending to avoid message size limits. See b/62115660.\n",
              "    let position = 0;\n",
              "    do {\n",
              "      const length = Math.min(fileData.byteLength - position, MAX_PAYLOAD_SIZE);\n",
              "      const chunk = new Uint8Array(fileData, position, length);\n",
              "      position += length;\n",
              "\n",
              "      const base64 = btoa(String.fromCharCode.apply(null, chunk));\n",
              "      yield {\n",
              "        response: {\n",
              "          action: 'append',\n",
              "          file: file.name,\n",
              "          data: base64,\n",
              "        },\n",
              "      };\n",
              "\n",
              "      let percentDone = fileData.byteLength === 0 ?\n",
              "          100 :\n",
              "          Math.round((position / fileData.byteLength) * 100);\n",
              "      percent.textContent = `${percentDone}% done`;\n",
              "\n",
              "    } while (position < fileData.byteLength);\n",
              "  }\n",
              "\n",
              "  // All done.\n",
              "  yield {\n",
              "    response: {\n",
              "      action: 'complete',\n",
              "    }\n",
              "  };\n",
              "}\n",
              "\n",
              "scope.google = scope.google || {};\n",
              "scope.google.colab = scope.google.colab || {};\n",
              "scope.google.colab._files = {\n",
              "  _uploadFiles,\n",
              "  _uploadFilesContinue,\n",
              "};\n",
              "})(self);\n",
              "</script> "
            ]
          },
          "metadata": {}
        },
        {
          "output_type": "stream",
          "name": "stdout",
          "text": [
            "Saving netflix.csv to netflix.csv\n"
          ]
        }
      ]
    },
    {
      "cell_type": "code",
      "source": [
        "\n",
        "# ✅ Step 1: Defining Problem Statement and Analyzing Basic Metrics\n",
        "\n",
        "# Problem Statement\n",
        "print(\"\"\"\n",
        "Netflix is one of the most popular streaming platforms globally.\n",
        "Goal: Analyze Netflix dataset to identify trends and patterns that help decide:\n",
        "- Which types of shows/movies to produce.\n",
        "- How to grow the business in different countries.\n",
        "\"\"\")\n"
      ],
      "metadata": {
        "id": "YSs4Rbs6_s2Z",
        "outputId": "ddf18550-9d88-4f40-8117-ed601014fce3",
        "colab": {
          "base_uri": "https://localhost:8080/"
        }
      },
      "execution_count": 7,
      "outputs": [
        {
          "output_type": "stream",
          "name": "stdout",
          "text": [
            "\n",
            "Netflix is one of the most popular streaming platforms globally.\n",
            "Goal: Analyze Netflix dataset to identify trends and patterns that help decide:\n",
            "- Which types of shows/movies to produce.\n",
            "- How to grow the business in different countries.\n",
            "\n"
          ]
        }
      ]
    },
    {
      "cell_type": "code",
      "source": [
        "\n",
        "# Import libraries\n",
        "import pandas as pd\n",
        "\n",
        "# Load dataset\n",
        "df = pd.read_csv('netflix.csv')\n",
        "\n",
        "# Basic metrics\n",
        "print(\"✅ Dataset Shape (rows, columns):\", df.shape)\n",
        "print(\"\\n✅ Column Names:\", df.columns.tolist())\n",
        "print(\"\\n✅ Data Types:\\n\", df.dtypes)\n",
        "print(\"\\n✅ Missing Values Summary:\\n\", df.isnull().sum())\n",
        "print(\"\\n✅ Statistical Summary:\\n\", df.describe(include='all'))\n",
        "\n"
      ],
      "metadata": {
        "id": "nUYasYsDAwrZ",
        "outputId": "9662b2df-1634-4b67-cc26-2b303ceae05a",
        "colab": {
          "base_uri": "https://localhost:8080/"
        }
      },
      "execution_count": 8,
      "outputs": [
        {
          "output_type": "stream",
          "name": "stdout",
          "text": [
            "✅ Dataset Shape (rows, columns): (8807, 12)\n",
            "\n",
            "✅ Column Names: ['show_id', 'type', 'title', 'director', 'cast', 'country', 'date_added', 'release_year', 'rating', 'duration', 'listed_in', 'description']\n",
            "\n",
            "✅ Data Types:\n",
            " show_id         object\n",
            "type            object\n",
            "title           object\n",
            "director        object\n",
            "cast            object\n",
            "country         object\n",
            "date_added      object\n",
            "release_year     int64\n",
            "rating          object\n",
            "duration        object\n",
            "listed_in       object\n",
            "description     object\n",
            "dtype: object\n",
            "\n",
            "✅ Missing Values Summary:\n",
            " show_id            0\n",
            "type               0\n",
            "title              0\n",
            "director        2634\n",
            "cast             825\n",
            "country          831\n",
            "date_added        10\n",
            "release_year       0\n",
            "rating             4\n",
            "duration           3\n",
            "listed_in          0\n",
            "description        0\n",
            "dtype: int64\n",
            "\n",
            "✅ Statistical Summary:\n",
            "        show_id   type   title       director                cast  \\\n",
            "count     8807   8807    8807           6173                7982   \n",
            "unique    8807      2    8807           4528                7692   \n",
            "top      s8807  Movie  Zubaan  Rajiv Chilaka  David Attenborough   \n",
            "freq         1   6131       1             19                  19   \n",
            "mean       NaN    NaN     NaN            NaN                 NaN   \n",
            "std        NaN    NaN     NaN            NaN                 NaN   \n",
            "min        NaN    NaN     NaN            NaN                 NaN   \n",
            "25%        NaN    NaN     NaN            NaN                 NaN   \n",
            "50%        NaN    NaN     NaN            NaN                 NaN   \n",
            "75%        NaN    NaN     NaN            NaN                 NaN   \n",
            "max        NaN    NaN     NaN            NaN                 NaN   \n",
            "\n",
            "              country       date_added  release_year rating  duration  \\\n",
            "count            7976             8797   8807.000000   8803      8804   \n",
            "unique            748             1767           NaN     17       220   \n",
            "top     United States  January 1, 2020           NaN  TV-MA  1 Season   \n",
            "freq             2818              109           NaN   3207      1793   \n",
            "mean              NaN              NaN   2014.180198    NaN       NaN   \n",
            "std               NaN              NaN      8.819312    NaN       NaN   \n",
            "min               NaN              NaN   1925.000000    NaN       NaN   \n",
            "25%               NaN              NaN   2013.000000    NaN       NaN   \n",
            "50%               NaN              NaN   2017.000000    NaN       NaN   \n",
            "75%               NaN              NaN   2019.000000    NaN       NaN   \n",
            "max               NaN              NaN   2021.000000    NaN       NaN   \n",
            "\n",
            "                           listed_in  \\\n",
            "count                           8807   \n",
            "unique                           514   \n",
            "top     Dramas, International Movies   \n",
            "freq                             362   \n",
            "mean                             NaN   \n",
            "std                              NaN   \n",
            "min                              NaN   \n",
            "25%                              NaN   \n",
            "50%                              NaN   \n",
            "75%                              NaN   \n",
            "max                              NaN   \n",
            "\n",
            "                                              description  \n",
            "count                                                8807  \n",
            "unique                                               8775  \n",
            "top     Paranormal activity at a lush, abandoned prope...  \n",
            "freq                                                    4  \n",
            "mean                                                  NaN  \n",
            "std                                                   NaN  \n",
            "min                                                   NaN  \n",
            "25%                                                   NaN  \n",
            "50%                                                   NaN  \n",
            "75%                                                   NaN  \n",
            "max                                                   NaN  \n"
          ]
        }
      ]
    },
    {
      "cell_type": "code",
      "source": [
        "\n",
        "# Non-Graphical Analysis: Value counts and unique attributes\n",
        "\n",
        "# 1. Count of Movies vs TV Shows\n",
        "print(\"✅ Content Type Distribution:\\n\", df['type'].value_counts())\n",
        "\n",
        "# 2. Unique Ratings\n",
        "print(\"\\n✅ Unique Ratings:\\n\", df['rating'].unique())\n",
        "\n",
        "# 3. Count of Ratings\n",
        "print(\"\\n✅ Rating Distribution:\\n\", df['rating'].value_counts())\n",
        "\n",
        "# 4. Unique Genres\n",
        "print(\"\\n✅ Number of Unique Genres:\", df['listed_in'].nunique())\n",
        "print(\"\\n✅ Sample Genres:\\n\", df['listed_in'].unique()[:10])\n",
        "\n",
        "# 5. Top Countries\n",
        "print(\"\\n✅ Top 10 Countries by Content:\\n\", df['country'].value_counts().head(10))\n",
        "\n",
        "# 6. Unique Directors and Actors\n",
        "print(\"\\n✅ Number of Unique Directors:\", df['director'].nunique())\n",
        "print(\"✅ Number of Unique Actors:\", df['cast'].nunique())\n"
      ],
      "metadata": {
        "id": "8xePTRPFBfy5",
        "outputId": "cdbaae2b-f6e2-4fb2-c963-3cb3d1282b83",
        "colab": {
          "base_uri": "https://localhost:8080/"
        }
      },
      "execution_count": 9,
      "outputs": [
        {
          "output_type": "stream",
          "name": "stdout",
          "text": [
            "✅ Content Type Distribution:\n",
            " type\n",
            "Movie      6131\n",
            "TV Show    2676\n",
            "Name: count, dtype: int64\n",
            "\n",
            "✅ Unique Ratings:\n",
            " ['PG-13' 'TV-MA' 'PG' 'TV-14' 'TV-PG' 'TV-Y' 'TV-Y7' 'R' 'TV-G' 'G'\n",
            " 'NC-17' '74 min' '84 min' '66 min' 'NR' nan 'TV-Y7-FV' 'UR']\n",
            "\n",
            "✅ Rating Distribution:\n",
            " rating\n",
            "TV-MA       3207\n",
            "TV-14       2160\n",
            "TV-PG        863\n",
            "R            799\n",
            "PG-13        490\n",
            "TV-Y7        334\n",
            "TV-Y         307\n",
            "PG           287\n",
            "TV-G         220\n",
            "NR            80\n",
            "G             41\n",
            "TV-Y7-FV       6\n",
            "NC-17          3\n",
            "UR             3\n",
            "74 min         1\n",
            "84 min         1\n",
            "66 min         1\n",
            "Name: count, dtype: int64\n",
            "\n",
            "✅ Number of Unique Genres: 514\n",
            "\n",
            "✅ Sample Genres:\n",
            " ['Documentaries' 'International TV Shows, TV Dramas, TV Mysteries'\n",
            " 'Crime TV Shows, International TV Shows, TV Action & Adventure'\n",
            " 'Docuseries, Reality TV'\n",
            " 'International TV Shows, Romantic TV Shows, TV Comedies'\n",
            " 'TV Dramas, TV Horror, TV Mysteries' 'Children & Family Movies'\n",
            " 'Dramas, Independent Movies, International Movies'\n",
            " 'British TV Shows, Reality TV' 'Comedies, Dramas']\n",
            "\n",
            "✅ Top 10 Countries by Content:\n",
            " country\n",
            "United States     2818\n",
            "India              972\n",
            "United Kingdom     419\n",
            "Japan              245\n",
            "South Korea        199\n",
            "Canada             181\n",
            "Spain              145\n",
            "France             124\n",
            "Mexico             110\n",
            "Egypt              106\n",
            "Name: count, dtype: int64\n",
            "\n",
            "✅ Number of Unique Directors: 4528\n",
            "✅ Number of Unique Actors: 7692\n"
          ]
        }
      ]
    },
    {
      "cell_type": "code",
      "source": [
        "#Visual Analysis - Univariate, Bivariate after pre-processing of the data\n",
        "\n",
        "\n",
        "# ✅ Univariate Analysis\n",
        "# 1. Countplot for Content Type\n",
        "plt.figure(figsize=(6, 4))\n",
        "sns.countplot(x='type', data=df)\n",
        "plt.title('Content Type Distribution')\n",
        "plt.show()\n"
      ],
      "metadata": {
        "id": "uC8VKmInC28C",
        "outputId": "47e1b0a1-fd89-499b-a9cb-2f65357a7668",
        "colab": {
          "base_uri": "https://localhost:8080/",
          "height": 410
        }
      },
      "execution_count": 11,
      "outputs": [
        {
          "output_type": "display_data",
          "data": {
            "text/plain": [
              "<Figure size 600x400 with 1 Axes>"
            ],
            "image/png": "[encoded data removed]"
          },
          "metadata": {}
        }
      ]
    },
    {
      "cell_type": "code",
      "source": [
        "\n",
        "# 2. Histogram for Release Year\n",
        "plt.figure(figsize=(10, 5))\n",
        "sns.histplot(df['release_year'], bins=30, kde=False)\n",
        "plt.title('Content Releases Over Years')\n",
        "plt.show()\n"
      ],
      "metadata": {
        "id": "ZUpLgsN2DR6q",
        "outputId": "48316f6d-c9e3-4477-8dd4-754ce51bd6db",
        "colab": {
          "base_uri": "https://localhost:8080/",
          "height": 487
        }
      },
      "execution_count": 12,
      "outputs": [
        {
          "output_type": "display_data",
          "data": {
            "text/plain": [
              "<Figure size 1000x500 with 1 Axes>"
            ],
            "image/png": "[encoded data removed]"
          },
          "metadata": {}
        }
      ]
    },
    {
      "cell_type": "code",
      "source": [
        "\n",
        "# 3. Boxplot for Movie Duration\n",
        "\n",
        "\n",
        "\n",
        "\n",
        "\n",
        "\n",
        "\n"
      ],
      "metadata": {
        "id": "SauhWcvjDVlS"
      },
      "execution_count": 27,
      "outputs": []
    },
    {
      "cell_type": "code",
      "source": [
        "\n",
        "# ✅ Bivariate Analysis\n",
        "# 4. Type vs Rating\n",
        "plt.figure(figsize=(12, 6))\n",
        "sns.countplot(x='rating', hue='type', data=df)\n",
        "plt.xticks(rotation=45)\n",
        "plt.title('Content Type vs Rating')\n",
        "plt.show()\n"
      ],
      "metadata": {
        "id": "VHIC7m1bDfH3",
        "outputId": "9d08aebc-acb7-4b88-81fb-1310c7c9176f",
        "colab": {
          "base_uri": "https://localhost:8080/",
          "height": 602
        }
      },
      "execution_count": 14,
      "outputs": [
        {
          "output_type": "display_data",
          "data": {
            "text/plain": [
              "<Figure size 1200x600 with 1 Axes>"
            ],
            "image/png": "[encoded data removed]"
          },
          "metadata": {}
        }
      ]
    },
    {
      "cell_type": "code",
      "source": [
        "\n",
        "# 5. Releases per Year by Type\n",
        "plt.figure(figsize=(12, 6))\n",
        "sns.histplot(data=df, x='release_year', hue='type', multiple='stack', bins=30)\n",
        "plt.title('Releases per Year by Content Type')\n",
        "plt.show()\n"
      ],
      "metadata": {
        "id": "1TLcfYjeDjBN",
        "outputId": "4287228d-f94f-456b-d3ca-54e21b1cdf51",
        "colab": {
          "base_uri": "https://localhost:8080/",
          "height": 564
        }
      },
      "execution_count": 15,
      "outputs": [
        {
          "output_type": "display_data",
          "data": {
            "text/plain": [
              "<Figure size 1200x600 with 1 Axes>"
            ],
            "image/png": "[encoded data removed]"
          },
          "metadata": {}
        }
      ]
    },
    {
      "cell_type": "code",
      "execution_count": null,
      "metadata": {
        "cellView": "form",
        "id": "9r9Ggw012g9c"
      },
      "outputs": [],
      "source": [
        "# @title Licensed under the Apache License, Version 2.0 (the \"License\");\n",
        "#\n",
        "# Licensed under the Apache License, Version 2.0 (the \"License\");\n",
        "# you may not use this file except in compliance with the License.\n",
        "# You may obtain a copy of the License at\n",
        "#\n",
        "#     https://www.apache.org/licenses/LICENSE-2.0\n",
        "#\n",
        "# Unless required by applicable law or agreed to in writing, software\n",
        "# distributed under the License is distributed on an \"AS IS\" BASIS,\n",
        "# WITHOUT WARRANTIES OR CONDITIONS OF ANY KIND, either express or implied.\n",
        "# See the License for the specific language governing permissions and\n",
        "# limitations under the License."
      ]
    },
    {
      "cell_type": "markdown",
      "metadata": {
        "id": "eVmFDcYOSNiV"
      },
      "source": [
        "# Gemini API: Getting started with Gemini models\n",
        "\n",
        "<a target=\"_blank\" href=\"https://colab.research.google.com/github/google-gemini/cookbook/blob/main/quickstarts/Get_started.ipynb\"><img src=\"https://colab.research.google.com/assets/colab-badge.svg\" height=30/></a>"
      ]
    },
    {
      "cell_type": "markdown",
      "metadata": {
        "id": "TrWvVAIP3c1v"
      },
      "source": [
        "The new **[Google Gen AI SDK](https://github.com/googleapis/python-genai)** provides a unified interface to [Gemini models](https://ai.google.dev/gemini-api/docs/models) through both the [Gemini Developer API](https://ai.google.dev/gemini-api/docs) and the Gemini API on [Vertex AI](https://cloud.google.com/vertex-ai/generative-ai/docs/overview). With a few exceptions, code that runs on one platform will run on both. This notebook uses the Developer API.\n",
        "\n",
        "This notebook will walk you through:\n",
        "\n",
        "* [Installing and setting-up](Get_started.ipynb#scrollTo=Mfk6YY3G5kqp) the Google GenAI SDK\n",
        "* [Text](Get_started.ipynb#scrollTo=6TYNPrNvQ8ue) and [multimodal](#scrollTo=yww-vrxmRiIy) prompting\n",
        "* Counting [tokens](Get_started.ipynb#scrollTo=_9B8pb7tv_Cx)\n",
        "* Setting system instructions\n",
        "* Configuring [safety filters](Get_started.ipynb#scrollTo=HTAnYx_bbxPk)\n",
        "* Initiating a [multi-turn chat](Get_started.ipynb#scrollTo=HTAnYx_bbxPk)\n",
        "* [Controlling generated output](Get_started.ipynb#scrollTo=nyZMoM6tgnTA)\n",
        "* Using [function calling](Get_started.ipynb#scrollTo=Rl-y9SZywD0s)\n",
        "* Generating a [content stream](Get_started.ipynb#scrollTo=uQfLCxfQtPTg) and sending [asynchronous](Get_started.ipynb#scrollTo=plCtEIaHuv96) requests\n",
        "* Using [file uploads](Get_started.ipynb#scrollTo=enBhuaIk3KYa)\n",
        "* Using [context caching](Get_started.ipynb#scrollTo=oTgeR3_9wN5J)\n",
        "* Generating [text embeddings](Get_started.ipynb#scrollTo=sXNCRn8Wx71d)\n",
        "\n",
        "More details about this new SDK on the [documentation](https://ai.google.dev/gemini-api/docs/sdks)."
      ]
    },
    {
      "cell_type": "markdown",
      "metadata": {
        "id": "Mfk6YY3G5kqp"
      },
      "source": [
        "## Setup"
      ]
    },
    {
      "cell_type": "markdown",
      "metadata": {
        "id": "d5027929de8f"
      },
      "source": [
        "### Install SDK\n",
        "\n",
        "Install the SDK from [PyPI](https://github.com/googleapis/python-genai)."
      ]
    },
    {
      "cell_type": "code",
      "execution_count": null,
      "metadata": {
        "id": "46zEFO2a9FFd"
      },
      "outputs": [],
      "source": [
        "%pip install -U -q 'google-genai>=1.0.0'"
      ]
    },
    {
      "cell_type": "markdown",
      "metadata": {
        "id": "CTIfnvCn9HvH"
      },
      "source": [
        "### Setup your API key\n",
        "\n",
        "To run the following cell, your API key must be stored it in a Colab Secret named `GEMINI_API_KEY`. If you don't already have an API key or you aren't sure how to create a Colab Secret, see [Authentication](../quickstarts/Authentication.ipynb) for an example."
      ]
    },
    {
      "cell_type": "code",
      "execution_count": null,
      "metadata": {
        "id": "A1pkoyZb9Jm3"
      },
      "outputs": [],
      "source": [
        "from google.colab import userdata\n",
        "\n",
        "GEMINI_API_KEY = userdata.get('GEMINI_API_KEY')"
      ]
    },
    {
      "cell_type": "markdown",
      "metadata": {
        "id": "3Hx_Gw9i0Yuv"
      },
      "source": [
        "### Initialize SDK client\n",
        "\n",
        "With the new SDK, now you only need to initialize a client with you API key (or OAuth if using [Vertex AI](https://cloud.google.com/vertex-ai)). The model is now set in each call."
      ]
    },
    {
      "cell_type": "code",
      "execution_count": null,
      "metadata": {
        "id": "HghvVpbU0Uap"
      },
      "outputs": [],
      "source": [
        "from google import genai\n",
        "from google.genai import types\n",
        "\n",
        "client = genai.Client(api_key=GEMINI_API_KEY)"
      ]
    },
    {
      "cell_type": "markdown",
      "metadata": {
        "id": "MvA_mbi1JxD5"
      },
      "source": [
        "### Choose a model\n",
        "\n",
        "Select the model you want to use in this guide. You can either select one from the list or enter a model name manually. Keep in mind that some models, such as the 2.5 ones are thinking models and thus take slightly more time to respond. For more details, you can see [thinking notebook](./Get_started_thinking.ipynb) to learn how to switch the thinking off.\n",
        "\n",
        "For a full overview of all Gemini models, check the [documentation](https://ai.google.dev/gemini-api/docs/models/gemini)."
      ]
    },
    {
      "cell_type": "code",
      "execution_count": null,
      "metadata": {
        "id": "AChpZWIXu62m"
      },
      "outputs": [],
      "source": [
        "MODEL_ID = \"gemini-2.5-flash\" # @param [\"gemini-2.5-flash-lite\", \"gemini-2.5-flash-lite-preview-09-2025\", \"gemini-2.5-flash\", \"gemini-2.5-flash-preview-09-2025\", \"gemini-2.5-pro\"] {\"allow-input\":true, isTemplate: true}"
      ]
    },
    {
      "cell_type": "markdown",
      "metadata": {
        "id": "6TYNPrNvQ8ue"
      },
      "source": [
        "## Send text prompts\n",
        "\n",
        "Use the `generate_content` method to generate responses to your prompts. You can pass text directly to `generate_content` and use the `.text` property to get the text content of the response. Note that the `.text` field will work when there's only one part in the output."
      ]
    },
    {
      "cell_type": "code",
      "execution_count": null,
      "metadata": {
        "id": "T8md0ayAJ-RZ",
        "outputId": "253a1cc5-f058-4ba3-c19d-ed8408f69fa8"
      },
      "outputs": [
        {
          "data": {
            "text/markdown": [
              "The largest planet in our solar system is **Jupiter**."
            ],
            "text/plain": [
              "<IPython.core.display.Markdown object>"
            ]
          },
          "execution_count": 5,
          "metadata": {},
          "output_type": "execute_result"
        }
      ],
      "source": [
        "from IPython.display import Markdown\n",
        "\n",
        "response = client.models.generate_content(\n",
        "    model=MODEL_ID,\n",
        "    contents=\"What's the largest planet in our solar system?\"\n",
        ")\n",
        "\n",
        "Markdown(response.text)"
      ]
    },
    {
      "cell_type": "markdown",
      "metadata": {
        "id": "_9B8pb7tv_Cx"
      },
      "source": [
        "## Count tokens\n",
        "\n",
        "Tokens are the basic inputs to the Gemini models. You can use the `count_tokens` method to calculate the number of input tokens before sending a request to the Gemini API."
      ]
    },
    {
      "cell_type": "code",
      "execution_count": null,
      "metadata": {
        "id": "Z7WFm928wEYR",
        "outputId": "f1fe78b1-cc2c-4744-965f-d91668bc7c69"
      },
      "outputs": [
        {
          "name": "stdout",
          "output_type": "stream",
          "text": [
            "total_tokens=10 cached_content_token_count=None\n"
          ]
        }
      ],
      "source": [
        "response = client.models.count_tokens(\n",
        "    model=MODEL_ID,\n",
        "    contents=\"What's the highest mountain in Africa?\",\n",
        ")\n",
        "\n",
        "print(response)"
      ]
    },
    {
      "cell_type": "markdown",
      "metadata": {
        "id": "yww-vrxmRiIy"
      },
      "source": [
        "## Send multimodal prompts\n",
        "\n",
        "Use Gemini model, a multimodal model that supports multimodal prompts. You can include text, [PDF documents](../quickstarts/PDF_Files.ipynb), images, [audio](../quickstarts/Audio.ipynb) and [video](../quickstarts/Video.ipynb) in your prompt requests and get text or code responses.\n",
        "\n",
        "In this first example, you'll download an image from a specified URL, save it as a byte stream and then write those bytes to a local file named `jetpack.png`."
      ]
    },
    {
      "cell_type": "code",
      "execution_count": null,
      "metadata": {
        "id": "bQ3zu5udSBuD",
        "outputId": "2b03d72b-c813-470b-ec47-a2c9416eedc7"
      },
      "outputs": [
        {
          "data": {
            "text/plain": [
              "1567837"
            ]
          },
          "execution_count": 6,
          "metadata": {},
          "output_type": "execute_result"
        }
      ],
      "source": [
        "import requests\n",
        "import pathlib\n",
        "from PIL import Image\n",
        "\n",
        "IMG = \"https://storage.googleapis.com/generativeai-downloads/data/jetpack.png\" # @param {type: \"string\"}\n",
        "\n",
        "img_bytes = requests.get(IMG).content\n",
        "\n",
        "img_path = pathlib.Path('jetpack.png')\n",
        "img_path.write_bytes(img_bytes)"
      ]
    },
    {
      "cell_type": "markdown",
      "metadata": {
        "id": "xSjAMbVjOlnc"
      },
      "source": [
        "In this second example, you'll open a previously saved image, create a thumbnail of it and then generate a short blog post based on the thumbnail, displaying both the thumbnail and the generated blog post."
      ]
    },
    {
      "cell_type": "code",
      "execution_count": null,
      "metadata": {
        "id": "cDxd7Pp_SELb",
        "outputId": "442e5135-d7a0-4af2-edec-06b4a6a5b4a8"
      },
      "outputs": [
        {
          "data": {
            "image/jpeg": "[encoded data removed]",
            "text/plain": [
              "<PIL.PngImagePlugin.PngImageFile image mode=RGBA size=512x434>"
            ]
          },
          "metadata": {},
          "output_type": "display_data"
        },
        {
          "data": {
            "text/markdown": [
              "## Say Goodbye to Traffic Jams: The Jetpack Backpack is Here (Well, Almost)!\n",
              "\n",
              "Tired of bumper-to-bumper traffic? Dreaming of a commute that's literally above it all? Get ready to ditch the bus pass and embrace the sky, because we just stumbled upon a concept that might revolutionize personal travel: The Jetpack Backpack!\n",
              "\n",
              "This brilliant sketch outlines a \"Jetpack Backpack\" that, at first glance, looks... well, like a normal backpack! Designed for the modern commuter, it boasts **padded strap support** for comfort and, get this, it **fits an 18-inch laptop**. So yes, you can still bring your work with you, just... to a higher altitude. The idea is to be **lightweight** and blend in, making your superhero commute a discreet affair.\n",
              "\n",
              "But the magic truly happens when you need to ascend. With **retractable boosters**, this clever contraption transforms from practical carry-all to personal aerial vehicle. And for the environmentally conscious among us, rejoice! It’s **steam-powered**, making it a \"green/clean\" way to navigate the skies. Plus, modern convenience isn't forgotten with **USB-C charging**.\n",
              "\n",
              "Now, for the reality check: a **15-minute battery life** means you're not going cross-country just yet. But for those quick urban hops, bypassing gridlock, or making a grand entrance, it's more than enough.\n",
              "\n",
              "This concept sketch blends sci-fi fantasy with everyday utility in a truly imaginative way. While still a dream, the \"Jetpack Backpack\" offers a glimpse into a future where personal flight is discreet, eco-friendly, and perhaps, just a backpack away.\n",
              "\n",
              "What do you think? Would you trade your car keys for a jetpack strap?"
            ],
            "text/plain": [
              "<IPython.core.display.Markdown object>"
            ]
          },
          "execution_count": 9,
          "metadata": {},
          "output_type": "execute_result"
        }
      ],
      "source": [
        "from IPython.display import display, Markdown\n",
        "image = Image.open(img_path)\n",
        "image.thumbnail([512,512])\n",
        "\n",
        "response = client.models.generate_content(\n",
        "    model=MODEL_ID,\n",
        "    contents=[\n",
        "        image,\n",
        "        \"Write a short and engaging blog post based on this picture.\"\n",
        "    ]\n",
        ")\n",
        "\n",
        "display(image)\n",
        "Markdown(response.text)"
      ]
    },
    {
      "cell_type": "markdown",
      "metadata": {
        "id": "VTzuBfHyWAg5"
      },
      "source": [
        "## Configure model parameters\n",
        "\n",
        "You can include parameter values in each call that you send to a model to control how the model generates a response. Learn more about [experimenting with parameter values](https://ai.google.dev/gemini-api/docs/prompting-strategies#model-parameters)."
      ]
    },
    {
      "cell_type": "code",
      "execution_count": null,
      "metadata": {
        "id": "r5izy6jsbEnL",
        "outputId": "c9632ebb-5e01-4c05-baed-f94e2227bb1a"
      },
      "outputs": [
        {
          "data": {
            "text/markdown": [
              "Woof woof! You! Yes, YOU! You have a *squeak*! A very important *squeak* you want to send to your friend, the fluffy cat, who lives far, far away!\n",
              "\n",
              "**You have a Squeak!** (That's your message, your picture of a squirrel, your video of a bouncy ball!)\n",
              "*Squeak!*\n",
              "\n",
              "**Sending Your Squeak!**\n",
              "You want to throw your *squeak*! But it's too far to throw! So, your *squeak* goes to a special box near your human. It's like a **Squeaky Toy Launcher**!\n",
              "*WHIZZ! Squeak!*\n",
              "\n",
              "**Invisible Paths!**\n",
              "This **Squeaky Toy Launcher** sends your *squeak* onto invisible, wiggly, super-duper long paths! Paths that go under the grass! Paths that go over the trees! Paths that go all the way to the fluffy cat's house!\n",
              "*Squeak-squeak-squeak-squeak!* (Imagine tiny squeaks zooming!)\n",
              "\n",
              "**Giant Squeaky Toy Piles!**\n",
              "Sometimes, your *squeak* doesn't go straight to the fluffy cat. Sometimes it goes to a **GIANT, GIANT pile of squeaky toys**! These are like the biggest squeaky toy closets in the world! When you want to see a picture of a squirrel, you're asking one of these *big squeaky toy piles* for *their* squirrel-squeak!\n",
              "*WOOF! Squeak! (That's the squirrel picture popping up!)*\n",
              "\n",
              "**Getting Squeaks Back!**\n",
              "And when the fluffy cat sends *you* a *squeak* (maybe a video of a laser pointer!), it comes back on those same invisible paths! *Squeak! Squeak! Squeak!* Right to your **Squeaky Toy Launcher** box, and then to you!\n",
              "*Wag wag! Pant pant!*\n",
              "\n",
              "**Lots of Little Squeaks!**\n",
              "It's not one big *WHOOSH-SQUEAK!* It's lots of little *squeaky-bits* that all travel together and then magically become one big *SQUEAKY THING* when they get to you!\n",
              "*Sniff sniff! Squeak! Good boy!*\n",
              "\n",
              "So, the internet is just **ALL THE SQUEAKS!** Going everywhere! All the time! *WOOF! Squeak!* Now, where's that ball?"
            ],
            "text/plain": [
              "<IPython.core.display.Markdown object>"
            ]
          },
          "execution_count": 10,
          "metadata": {},
          "output_type": "execute_result"
        }
      ],
      "source": [
        "response = client.models.generate_content(\n",
        "    model=MODEL_ID,\n",
        "    contents=\"Tell me how the internet works, but pretend I'm a puppy who only understands squeaky toys.\",\n",
        "    config=types.GenerateContentConfig(\n",
        "        temperature=0.4,\n",
        "        top_p=0.95,\n",
        "        top_k=20,\n",
        "        candidate_count=1,\n",
        "        seed=5,\n",
        "        stop_sequences=[\"STOP!\"],\n",
        "        presence_penalty=0.0,\n",
        "        frequency_penalty=0.0,\n",
        "    )\n",
        ")\n",
        "\n",
        "Markdown(response.text)"
      ]
    },
    {
      "cell_type": "markdown",
      "metadata": {
        "id": "HTAnYx_bbxPk"
      },
      "source": [
        "## Configure safety filters\n",
        "\n",
        "The Gemini API provides safety filters that you can adjust across multiple filter categories to restrict or allow certain types of content. You can use these filters to adjust what is appropriate for your use case. See the [Configure safety filters](https://ai.google.dev/gemini-api/docs/safety-settings) page for details.\n",
        "\n",
        "\n",
        "In this example, you'll use a safety filter to only block highly dangerous content, when requesting the generation of potentially disrespectful phrases."
      ]
    },
    {
      "cell_type": "code",
      "execution_count": null,
      "metadata": {
        "id": "SJIvAfMqbzQL",
        "outputId": "643396d7-fba2-4b00-89ba-093323365719"
      },
      "outputs": [
        {
          "data": {
            "text/markdown": [
              "Here are two disrespectful things you might say:\n",
              "\n",
              "1.  \"Oh, is *this* your big plan for me tonight, Universe? Real creative.\"\n",
              "2.  \"You know what, Universe? You're really starting to get on my last nerve with this kind of nonsense.\""
            ],
            "text/plain": [
              "<IPython.core.display.Markdown object>"
            ]
          },
          "execution_count": 11,
          "metadata": {},
          "output_type": "execute_result"
        }
      ],
      "source": [
        "prompt = \"\"\"\n",
        "    Write a list of 2 disrespectful things that I might say to the universe after stubbing my toe in the dark.\n",
        "\"\"\"\n",
        "\n",
        "safety_settings = [\n",
        "    types.SafetySetting(\n",
        "        category=\"HARM_CATEGORY_DANGEROUS_CONTENT\",\n",
        "        threshold=\"BLOCK_ONLY_HIGH\",\n",
        "    ),\n",
        "]\n",
        "\n",
        "response = client.models.generate_content(\n",
        "    model=MODEL_ID,\n",
        "    contents=prompt,\n",
        "    config=types.GenerateContentConfig(\n",
        "        safety_settings=safety_settings,\n",
        "    ),\n",
        ")\n",
        "\n",
        "Markdown(response.text)"
      ]
    },
    {
      "cell_type": "markdown",
      "metadata": {
        "id": "b6sB7W-jdGxJ"
      },
      "source": [
        "## Start a multi-turn chat\n",
        "\n",
        "The Gemini API enables you to have freeform conversations across multiple turns.\n",
        "\n",
        "Next you'll set up a helpful coding assistant:"
      ]
    },
    {
      "cell_type": "code",
      "execution_count": null,
      "metadata": {
        "id": "mIC0pLnJdI8m"
      },
      "outputs": [],
      "source": [
        "system_instruction = \"\"\"\n",
        "  You are an expert software developer and a helpful coding assistant.\n",
        "  You are able to generate high-quality code in any programming language.\n",
        "\"\"\"\n",
        "\n",
        "chat_config = types.GenerateContentConfig(\n",
        "    system_instruction=system_instruction,\n",
        ")\n",
        "\n",
        "chat = client.chats.create(\n",
        "    model=MODEL_ID,\n",
        "    config=chat_config,\n",
        ")"
      ]
    },
    {
      "cell_type": "markdown",
      "metadata": {
        "id": "KVQZitGE7EbW"
      },
      "source": [
        "Use `chat.send_message` to pass a message back and receive a response."
      ]
    },
    {
      "cell_type": "code",
      "execution_count": null,
      "metadata": {
        "id": "SnzMJJ-adOfX",
        "outputId": "f1e18905-1145-44ca-85be-114ab77c2b04"
      },
      "outputs": [
        {
          "data": {
            "text/markdown": [
              "Here's a function to check if a year is a leap year, provided in several common programming languages.\n",
              "\n",
              "The rules for determining a leap year are:\n",
              "1.  A year is a leap year if it is divisible by 4.\n",
              "2.  However, if it is divisible by 100, it is NOT a leap year, unless...\n",
              "3.  ...it is also divisible by 400, in which case it IS a leap year.\n",
              "\n",
              "---\n",
              "\n",
              "## Python\n",
              "\n",
              "```python\n",
              "def is_leap_year(year: int) -> bool:\n",
              "    \"\"\"\n",
              "    Checks if a given year is a leap year.\n",
              "\n",
              "    Args:\n",
              "        year: The year to check (an integer).\n",
              "\n",
              "    Returns:\n",
              "        True if the year is a leap year, False otherwise.\n",
              "    \"\"\"\n",
              "    if (year % 4 == 0 and year % 100 != 0) or (year % 400 == 0):\n",
              "        return True\n",
              "    else:\n",
              "        return False\n",
              "\n",
              "# --- Examples ---\n",
              "print(f\"Is 2000 a leap year? {is_leap_year(2000)}\") # Expected: True (divisible by 400)\n",
              "print(f\"Is 1900 a leap year? {is_leap_year(1900)}\") # Expected: False (divisible by 100, but not by 400)\n",
              "print(f\"Is 2024 a leap year? {is_leap_year(2024)}\") # Expected: True (divisible by 4, not by 100)\n",
              "print(f\"Is 2023 a leap year? {is_leap_year(2023)}\") # Expected: False (not divisible by 4)\n",
              "print(f\"Is 1600 a leap year? {is_leap_year(1600)}\") # Expected: True\n",
              "```\n",
              "\n",
              "---\n",
              "\n",
              "## JavaScript\n",
              "\n",
              "```javascript\n",
              "/**\n",
              " * Checks if a given year is a leap year.\n",
              " * @param {number} year The year to check.\n",
              " * @returns {boolean} True if the year is a leap year, False otherwise.\n",
              " */\n",
              "function isLeapYear(year) {\n",
              "  if ((year % 4 === 0 && year % 100 !== 0) || (year % 400 === 0)) {\n",
              "    return true;\n",
              "  } else {\n",
              "    return false;\n",
              "  }\n",
              "}\n",
              "\n",
              "// --- Examples ---\n",
              "console.log(`Is 2000 a leap year? ${isLeapYear(2000)}`); // Expected: true\n",
              "console.log(`Is 1900 a leap year? ${isLeapYear(1900)}`); // Expected: false\n",
              "console.log(`Is 2024 a leap year? ${isLeapYear(2024)}`); // Expected: true\n",
              "console.log(`Is 2023 a leap year? ${isLeapYear(2023)}`); // Expected: false\n",
              "console.log(`Is 1600 a leap year? ${isLeapYear(1600)}`); // Expected: true\n",
              "```\n",
              "\n",
              "---\n",
              "\n",
              "## Java\n",
              "\n",
              "```java\n",
              "public class LeapYearChecker {\n",
              "\n",
              "    /**\n",
              "     * Checks if a given year is a leap year.\n",
              "     * @param year The year to check.\n",
              "     * @return True if the year is a leap year, False otherwise.\n",
              "     */\n",
              "    public static boolean isLeapYear(int year) {\n",
              "        if ((year % 4 == 0 && year % 100 != 0) || (year % 400 == 0)) {\n",
              "            return true;\n",
              "        } else {\n",
              "            return false;\n",
              "        }\n",
              "    }\n",
              "\n",
              "    public static void main(String[] args) {\n",
              "        // --- Examples ---\n",
              "        System.out.println(\"Is 2000 a leap year? \" + isLeapYear(2000)); // Expected: true\n",
              "        System.out.println(\"Is 1900 a leap year? \" + isLeapYear(1900)); // Expected: false\n",
              "        System.out.println(\"Is 2024 a leap year? \" + isLeapYear(2024)); // Expected: true\n",
              "        System.out.println(\"Is 2023 a leap year? \" + isLeapYear(2023)); // Expected: false\n",
              "        System.out.println(\"Is 1600 a leap year? \" + isLeapYear(1600)); // Expected: true\n",
              "    }\n",
              "}\n",
              "```\n",
              "\n",
              "---\n",
              "\n",
              "## C#\n",
              "\n",
              "```csharp\n",
              "using System;\n",
              "\n",
              "public class LeapYearChecker\n",
              "{\n",
              "    /// <summary>\n",
              "    /// Checks if a given year is a leap year.\n",
              "    /// </summary>\n",
              "    /// <param name=\"year\">The year to check.</param>\n",
              "    /// <returns>True if the year is a leap year, False otherwise.</returns>\n",
              "    public static bool IsLeapYear(int year)\n",
              "    {\n",
              "        if ((year % 4 == 0 && year % 100 != 0) || (year % 400 == 0))\n",
              "        {\n",
              "            return true;\n",
              "        }\n",
              "        else\n",
              "        {\n",
              "            return false;\n",
              "        }\n",
              "    }\n",
              "\n",
              "    public static void Main(string[] args)\n",
              "    {\n",
              "        // --- Examples ---\n",
              "        Console.WriteLine($\"Is 2000 a leap year? {IsLeapYear(2000)}\"); // Expected: True\n",
              "        Console.WriteLine($\"Is 1900 a leap year? {IsLeapYear(1900)}\"); // Expected: False\n",
              "        Console.WriteLine($\"Is 2024 a leap year? {IsLeapYear(2024)}\"); // Expected: True\n",
              "        Console.WriteLine($\"Is 2023 a leap year? {IsLeapYear(2023)}\"); // Expected: False\n",
              "        Console.WriteLine($\"Is 1600 a leap year? {IsLeapYear(1600)}\"); // Expected: True\n",
              "    }\n",
              "}\n",
              "```\n",
              "\n",
              "---\n",
              "\n",
              "## C++\n",
              "\n",
              "```cpp\n",
              "#include <iostream>\n",
              "\n",
              "/**\n",
              " * Checks if a given year is a leap year.\n",
              " * @param year The year to check.\n",
              " * @return True if the year is a leap year, False otherwise.\n",
              " */\n",
              "bool isLeapYear(int year) {\n",
              "    if ((year % 4 == 0 && year % 100 != 0) || (year % 400 == 0)) {\n",
              "        return true;\n",
              "    } else {\n",
              "        return false;\n",
              "    }\n",
              "}\n",
              "\n",
              "int main() {\n",
              "    // --- Examples ---\n",
              "    std::cout << \"Is 2000 a leap year? \" << (isLeapYear(2000) ? \"True\" : \"False\") << std::endl; // Expected: True\n",
              "    std::cout << \"Is 1900 a leap year? \" << (isLeapYear(1900) ? \"True\" : \"False\") << std::endl; // Expected: False\n",
              "    std::cout << \"Is 2024 a leap year? \" << (isLeapYear(2024) ? \"True\" : \"False\") << std::endl; // Expected: True\n",
              "    std::cout << \"Is 2023 a leap year? \" << (isLeapYear(2023) ? \"True\" : \"False\") << std::endl; // Expected: False\n",
              "    std::cout << \"Is 1600 a leap year? \" << (isLeapYear(1600) ? \"True\" : \"False\") << std::endl; // Expected: True\n",
              "\n",
              "    return 0;\n",
              "}\n",
              "```"
            ],
            "text/plain": [
              "<IPython.core.display.Markdown object>"
            ]
          },
          "execution_count": 13,
          "metadata": {},
          "output_type": "execute_result"
        }
      ],
      "source": [
        "response = chat.send_message(\"Write a function that checks if a year is a leap year.\")\n",
        "\n",
        "Markdown(response.text)"
      ]
    },
    {
      "cell_type": "markdown",
      "metadata": {
        "id": "gWWcDneQO4Ya"
      },
      "source": [
        "Here's another example using your new helpful coding assistant:"
      ]
    },
    {
      "cell_type": "code",
      "execution_count": null,
      "metadata": {
        "id": "9qAObeZMdgln",
        "outputId": "67c6be97-9716-4245-a817-d8105af46351"
      },
      "outputs": [
        {
          "data": {
            "text/markdown": [
              "You've got the `is_leap_year` function; now let's write unit tests for it. Unit tests are crucial for verifying that your code works as expected and helps prevent regressions when you make changes.\n",
              "\n",
              "I'll provide examples in Python, JavaScript, and Java, as they are commonly used and demonstrate the principles well. The core idea is to test all the different conditions for a leap year:\n",
              "\n",
              "1.  **Standard Leap Year:** Divisible by 4, but not by 100 (e.g., 2024) - Should return `True`.\n",
              "2.  **Standard Non-Leap Year:** Not divisible by 4 (e.g., 2023) - Should return `False`.\n",
              "3.  **Century Non-Leap Year:** Divisible by 100, but not by 400 (e.g., 1900) - Should return `False`.\n",
              "4.  **Century Leap Year:** Divisible by 400 (e.g., 2000) - Should return `True`.\n",
              "\n",
              "---\n",
              "\n",
              "## Python (using `unittest` module)\n",
              "\n",
              "For a real project, you'd typically put your `is_leap_year` function in one file (e.g., `date_utils.py`) and your tests in another (e.g., `test_date_utils.py`). For this example, I'll include the function in the same file for simplicity.\n",
              "\n",
              "**`test_leap_year.py`**\n",
              "\n",
              "```python\n",
              "import unittest\n",
              "\n",
              "# The function to be tested (assuming it's in the same file or imported)\n",
              "def is_leap_year(year: int) -> bool:\n",
              "    \"\"\"\n",
              "    Checks if a given year is a leap year.\n",
              "    \"\"\"\n",
              "    if (year % 4 == 0 and year % 100 != 0) or (year % 400 == 0):\n",
              "        return True\n",
              "    else:\n",
              "        return False\n",
              "\n",
              "class TestIsLeapYear(unittest.TestCase):\n",
              "    \"\"\"\n",
              "    Unit tests for the is_leap_year function.\n",
              "    \"\"\"\n",
              "\n",
              "    def test_standard_leap_years(self):\n",
              "        \"\"\"Test years divisible by 4 but not by 100.\"\"\"\n",
              "        self.assertTrue(is_leap_year(2024), \"2024 should be a leap year\")\n",
              "        self.assertTrue(is_leap_year(2008), \"2008 should be a leap year\")\n",
              "        self.assertTrue(is_leap_year(1996), \"1996 should be a leap year\")\n",
              "        self.assertTrue(is_leap_year(4), \"Year 4 should be a leap year\")\n",
              "\n",
              "    def test_standard_non_leap_years(self):\n",
              "        \"\"\"Test years not divisible by 4.\"\"\"\n",
              "        self.assertFalse(is_leap_year(2023), \"2023 should not be a leap year\")\n",
              "        self.assertFalse(is_leap_year(2022), \"2022 should not be a leap year\")\n",
              "        self.assertFalse(is_leap_year(1999), \"1999 should not be a leap year\")\n",
              "        self.assertFalse(is_leap_year(7), \"Year 7 should not be a leap year\")\n",
              "\n",
              "    def test_century_non_leap_years(self):\n",
              "        \"\"\"Test years divisible by 100 but not by 400.\"\"\"\n",
              "        self.assertFalse(is_leap_year(1900), \"1900 should not be a leap year\")\n",
              "        self.assertFalse(is_leap_year(2100), \"2100 should not be a leap year\")\n",
              "        self.assertFalse(is_leap_year(1800), \"1800 should not be a leap year\")\n",
              "\n",
              "    def test_century_leap_years(self):\n",
              "        \"\"\"Test years divisible by 400.\"\"\"\n",
              "        self.assertTrue(is_leap_year(2000), \"2000 should be a leap year\")\n",
              "        self.assertTrue(is_leap_year(1600), \"1600 should be a leap year\")\n",
              "        self.assertTrue(is_leap_year(2400), \"2400 should be a leap year\")\n",
              "\n",
              "    def test_boundary_cases(self):\n",
              "        \"\"\"Test years around the turn of a century.\"\"\"\n",
              "        self.assertFalse(is_leap_year(1899), \"1899 should not be a leap year\")\n",
              "        self.assertTrue(is_leap_year(1904), \"1904 should be a leap year\")\n",
              "        self.assertFalse(is_leap_year(1999), \"1999 should not be a leap year\")\n",
              "        self.assertTrue(is_leap_year(2000), \"2000 should be a leap year\")\n",
              "        self.assertFalse(is_leap_year(2001), \"2001 should not be a leap year\")\n",
              "\n",
              "    def test_zero_and_negative_years(self):\n",
              "        \"\"\"Although not standard Gregorian, ensure consistent behavior for zero/negative.\"\"\"\n",
              "        self.assertFalse(is_leap_year(0), \"Year 0 should not be a leap year (or handle as desired)\")\n",
              "        self.assertFalse(is_leap_year(-4), \"Negative years typically not leap years (or handle as desired)\")\n",
              "\n",
              "\n",
              "# This block runs the tests when the script is executed\n",
              "if __name__ == '__main__':\n",
              "    unittest.main(argv=['first-arg-is-ignored'], exit=False)\n",
              "    # The argv and exit=False are often used in IDEs like VS Code to prevent\n",
              "    # issues with test runner integration. For command line, unittest.main() is enough.\n",
              "```\n",
              "\n",
              "**How to run (Python):**\n",
              "1.  Save the code above as `test_leap_year.py`.\n",
              "2.  Open your terminal or command prompt in the same directory.\n",
              "3.  Run: `python -m unittest test_leap_year.py`\n",
              "    Or simply: `python test_leap_year.py` if the `if __name__ == '__main__':` block is set up correctly.\n",
              "\n",
              "---\n",
              "\n",
              "## JavaScript (using Jest)\n",
              "\n",
              "Jest is a popular testing framework for JavaScript. First, you'd need to install it:\n",
              "`npm install --save-dev jest` or `yarn add --dev jest`\n",
              "\n",
              "**`leapYearChecker.js`** (your function file)\n",
              "```javascript\n",
              "/**\n",
              " * Checks if a given year is a leap year.\n",
              " * @param {number} year The year to check.\n",
              " * @returns {boolean} True if the year is a leap year, False otherwise.\n",
              " */\n",
              "function isLeapYear(year) {\n",
              "  if ((year % 4 === 0 && year % 100 !== 0) || (year % 400 === 0)) {\n",
              "    return true;\n",
              "  } else {\n",
              "    return false;\n",
              "  }\n",
              "}\n",
              "\n",
              "module.exports = isLeapYear; // Export the function for testing\n",
              "```\n",
              "\n",
              "**`leapYearChecker.test.js`** (your test file)\n",
              "```javascript\n",
              "const isLeapYear = require('./leapYearChecker'); // Import the function\n",
              "\n",
              "describe('isLeapYear', () => {\n",
              "\n",
              "  test('should return true for standard leap years (divisible by 4 but not 100)', () => {\n",
              "    expect(isLeapYear(2024)).toBe(true);\n",
              "    expect(isLeapYear(2008)).toBe(true);\n",
              "    expect(isLeapYear(1996)).toBe(true);\n",
              "    expect(isLeapYear(4)).toBe(true);\n",
              "  });\n",
              "\n",
              "  test('should return false for standard non-leap years (not divisible by 4)', () => {\n",
              "    expect(isLeapYear(2023)).toBe(false);\n",
              "    expect(isLeapYear(2022)).toBe(false);\n",
              "    expect(isLeapYear(1999)).toBe(false);\n",
              "    expect(isLeapYear(7)).toBe(false);\n",
              "  });\n",
              "\n",
              "  test('should return false for century years not divisible by 400', () => {\n",
              "    expect(isLeapYear(1900)).toBe(false);\n",
              "    expect(isLeapYear(2100)).toBe(false);\n",
              "    expect(isLeapYear(1800)).toBe(false);\n",
              "  });\n",
              "\n",
              "  test('should return true for century years divisible by 400', () => {\n",
              "    expect(isLeapYear(2000)).toBe(true);\n",
              "    expect(isLeapYear(1600)).toBe(true);\n",
              "    expect(isLeapYear(2400)).toBe(true);\n",
              "  });\n",
              "\n",
              "  test('should handle edge cases around centuries', () => {\n",
              "    expect(isLeapYear(1899)).toBe(false);\n",
              "    expect(isLeapYear(1904)).toBe(true);\n",
              "    expect(isLeapYear(1999)).toBe(false);\n",
              "    expect(isLeapYear(2001)).toBe(false);\n",
              "  });\n",
              "\n",
              "  test('should return false for zero and negative years (as per Gregorian calendar assumption)', () => {\n",
              "    expect(isLeapYear(0)).toBe(false);\n",
              "    expect(isLeapYear(-4)).toBe(false);\n",
              "  });\n",
              "});\n",
              "```\n",
              "\n",
              "**How to run (JavaScript with Jest):**\n",
              "1.  Make sure you have Node.js and npm/yarn installed.\n",
              "2.  In your project directory, run `npm init -y` to create a `package.json`.\n",
              "3.  Install Jest: `npm install --save-dev jest`.\n",
              "4.  Add a test script to your `package.json`:\n",
              "    ```json\n",
              "    \"scripts\": {\n",
              "      \"test\": \"jest\"\n",
              "    }\n",
              "    ```\n",
              "5.  Save the function code in `leapYearChecker.js` and the test code in `leapYearChecker.test.js` in the same directory (or a `__tests__` subdirectory, which Jest automatically finds).\n",
              "6.  Run: `npm test`\n",
              "\n",
              "---\n",
              "\n",
              "## Java (using JUnit 5)\n",
              "\n",
              "For Java, you'll typically use a build tool like Maven or Gradle to manage dependencies. Here's how it would look with JUnit 5.\n",
              "\n",
              "First, your `LeapYearChecker` class:\n",
              "\n",
              "**`LeapYearChecker.java`**\n",
              "```java\n",
              "public class LeapYearChecker {\n",
              "\n",
              "    /**\n",
              "     * Checks if a given year is a leap year.\n",
              "     * @param year The year to check.\n",
              "     * @return True if the year is a leap year, False otherwise.\n",
              "     */\n",
              "    public static boolean isLeapYear(int year) {\n",
              "        if ((year % 4 == 0 && year % 100 != 0) || (year % 400 == 0)) {\n",
              "            return true;\n",
              "        } else {\n",
              "            return false;\n",
              "        }\n",
              "    }\n",
              "}\n",
              "```\n",
              "\n",
              "Next, your JUnit test class:\n",
              "\n",
              "**`LeapYearCheckerTest.java`**\n",
              "```java\n",
              "import org.junit.jupiter.api.Test;\n",
              "import static org.junit.jupiter.api.Assertions.*;\n",
              "\n",
              "public class LeapYearCheckerTest {\n",
              "\n",
              "    @Test\n",
              "    void testStandardLeapYears() {\n",
              "        // Test years divisible by 4 but not by 100\n",
              "        assertTrue(LeapYearChecker.isLeapYear(2024), \"2024 should be a leap year\");\n",
              "        assertTrue(LeapYearChecker.isLeapYear(2008), \"2008 should be a leap year\");\n",
              "        assertTrue(LeapYearChecker.isLeapYear(1996), \"1996 should be a leap year\");\n",
              "        assertTrue(LeapYearChecker.isLeapYear(4), \"Year 4 should be a leap year\");\n",
              "    }\n",
              "\n",
              "    @Test\n",
              "    void testStandardNonLeapYears() {\n",
              "        // Test years not divisible by 4\n",
              "        assertFalse(LeapYearChecker.isLeapYear(2023), \"2023 should not be a leap year\");\n",
              "        assertFalse(LeapYearChecker.isLeapYear(2022), \"2022 should not be a leap year\");\n",
              "        assertFalse(LeapYearChecker.isLeapYear(1999), \"1999 should not be a leap year\");\n",
              "        assertFalse(LeapYearChecker.isLeapYear(7), \"Year 7 should not be a leap year\");\n",
              "    }\n",
              "\n",
              "    @Test\n",
              "    void testCenturyNonLeapYears() {\n",
              "        // Test years divisible by 100 but not by 400\n",
              "        assertFalse(LeapYearChecker.isLeapYear(1900), \"1900 should not be a leap year\");\n",
              "        assertFalse(LeapYearChecker.isLeapYear(2100), \"2100 should not be a leap year\");\n",
              "        assertFalse(LeapYearChecker.isLeapYear(1800), \"1800 should not be a leap year\");\n",
              "    }\n",
              "\n",
              "    @Test\n",
              "    void testCenturyLeapYears() {\n",
              "        // Test years divisible by 400\n",
              "        assertTrue(LeapYearChecker.isLeapYear(2000), \"2000 should be a leap year\");\n",
              "        assertTrue(LeapYearChecker.isLeapYear(1600), \"1600 should be a leap year\");\n",
              "        assertTrue(LeapYearChecker.isLeapYear(2400), \"2400 should be a leap year\");\n",
              "    }\n",
              "\n",
              "    @Test\n",
              "    void testBoundaryCases() {\n",
              "        assertFalse(LeapYearChecker.isLeapYear(1899), \"1899 should not be a leap year\");\n",
              "        assertTrue(LeapYearChecker.isLeapYear(1904), \"1904 should be a leap year\");\n",
              "        assertFalse(LeapYearChecker.isLeapYear(1999), \"1999 should not be a leap year\");\n",
              "        assertTrue(LeapYearChecker.isLeapYear(2000), \"2000 should be a leap year\");\n",
              "        assertFalse(LeapYearChecker.isLeapYear(2001), \"2001 should not be a leap year\");\n",
              "    }\n",
              "\n",
              "    @Test\n",
              "    void testZeroAndNegativeYears() {\n",
              "        assertFalse(LeapYearChecker.isLeapYear(0), \"Year 0 should not be a leap year\");\n",
              "        assertFalse(LeapYearChecker.isLeapYear(-4), \"Negative years typically not leap years\");\n",
              "    }\n",
              "}\n",
              "```\n",
              "\n",
              "**How to run (Java with JUnit 5):**\n",
              "\n",
              "**Using Maven:**\n",
              "\n",
              "1.  Create a Maven project.\n",
              "2.  Add JUnit 5 dependencies to your `pom.xml`:\n",
              "    ```xml\n",
              "    <dependencies>\n",
              "        <dependency>\n",
              "            <groupId>org.junit.jupiter</groupId>\n",
              "            <artifactId>junit-jupiter-api</artifactId>\n",
              "            <version>5.10.0</version> <!-- Use the latest version -->\n",
              "            <scope>test</scope>\n",
              "        </dependency>\n",
              "        <dependency>\n",
              "            <groupId>org.junit.jupiter</groupId>\n",
              "            <artifactId>junit-jupiter-engine</artifactId>\n",
              "            <version>5.10.0</version>\n",
              "            <scope>test</scope>\n",
              "        </dependency>\n",
              "    </dependencies>\n",
              "    ```\n",
              "3.  Place `LeapYearChecker.java` in `src/main/java`.\n",
              "4.  Place `LeapYearCheckerTest.java` in `src/test/java`.\n",
              "5.  Run tests from your terminal: `mvn test`\n",
              "\n",
              "**Using Gradle:**\n",
              "\n",
              "1.  Create a Gradle project.\n",
              "2.  Add JUnit 5 dependencies to your `build.gradle` (usually within the `dependencies` block):\n",
              "    ```gradle\n",
              "    testImplementation 'org.junit.jupiter:junit-jupiter-api:5.10.0'\n",
              "    testRuntimeOnly 'org.junit.jupiter:junit-jupiter-engine:5.10.0'\n",
              "    ```\n",
              "3.  Place `LeapYearChecker.java` in `src/main/java`.\n",
              "4.  Place `LeapYearCheckerTest.java` in `src/test/java`.\n",
              "5.  Run tests from your terminal: `gradle test`\n",
              "\n",
              "---\n",
              "\n",
              "Choose the language and framework that best suits your needs! The principles of covering all cases remain the same."
            ],
            "text/plain": [
              "<IPython.core.display.Markdown object>"
            ]
          },
          "execution_count": 14,
          "metadata": {},
          "output_type": "execute_result"
        }
      ],
      "source": [
        "response = chat.send_message(\"Okay, write a unit test of the generated function.\")\n",
        "\n",
        "Markdown(response.text)"
      ]
    },
    {
      "cell_type": "markdown",
      "metadata": {
        "id": "FNX4AQ9AWddm"
      },
      "source": [
        "## Save and resume a chat\n",
        "\n",
        "Most objects in the Python SDK are implemented as [Pydantic models](https://docs.pydantic.dev/latest/concepts/models/). As Pydantic has a number of features for serializing and deserializing objects, you can use them for persistence.\n",
        "\n",
        "This example shows how to save and restore a [`Chat`](https://googleapis.github.io/python-genai/genai.html#genai.chats.Chat) session using JSON."
      ]
    },
    {
      "cell_type": "code",
      "execution_count": null,
      "metadata": {
        "id": "zuoSfLW5Xl1V"
      },
      "outputs": [],
      "source": [
        "from pydantic import TypeAdapter\n",
        "\n",
        "# Chat history is a list of Content objects. A TypeAdapter can convert to and from\n",
        "# these Pydantic types.\n",
        "history_adapter = TypeAdapter(list[types.Content])\n",
        "\n",
        "# Use the chat object from the previous section.\n",
        "chat_history = chat.get_history()\n",
        "\n",
        "# Convert to a JSON list.\n",
        "json_history = history_adapter.dump_json(chat_history)"
      ]
    },
    {
      "cell_type": "markdown",
      "metadata": {
        "id": "E4xU6wpPZRdL"
      },
      "source": [
        "At this point you can save the JSON bytestring to disk or wherever you persist data. When you load it again, you can instantiate a new chat session using the stored history."
      ]
    },
    {
      "cell_type": "code",
      "execution_count": null,
      "metadata": {
        "id": "hq1bAsX8ZRS3",
        "outputId": "84574455-5144-4dcd-8295-e8d8b7315c56"
      },
      "outputs": [
        {
          "data": {
            "text/markdown": [
              "The function was named:\n",
              "\n",
              "*   **`is_leap_year`** (in Python)\n",
              "*   **`isLeapYear`** (in JavaScript, Java, C++, and C# - with variations in casing like `IsLeapYear` for C# public static methods).\n",
              "\n",
              "The most common and consistent name across the examples was `isLeapYear` or `is_leap_year`."
            ],
            "text/plain": [
              "<IPython.core.display.Markdown object>"
            ]
          },
          "execution_count": 16,
          "metadata": {},
          "output_type": "execute_result"
        }
      ],
      "source": [
        "# Convert the JSON back to the Pydantic schema.\n",
        "history = history_adapter.validate_json(json_history)\n",
        "\n",
        "# Now load a new chat session using the JSON history.\n",
        "new_chat = client.chats.create(\n",
        "    model=MODEL_ID,\n",
        "    config=chat_config,\n",
        "    history=history,\n",
        ")\n",
        "\n",
        "response = new_chat.send_message(\"What was the name of the function again?\")\n",
        "Markdown(response.text)"
      ]
    },
    {
      "cell_type": "markdown",
      "metadata": {
        "id": "nyZMoM6tgnTA"
      },
      "source": [
        "## Generate JSON\n",
        "\n",
        "The [controlled generation](https://ai.google.dev/gemini-api/docs/structured-output?lang=python#generate-json) capability in Gemini API allows you to constraint the model output to a structured format. You can provide the schemas as Pydantic Models or a JSON string."
      ]
    },
    {
      "cell_type": "code",
      "execution_count": null,
      "metadata": {
        "id": "xRJHVjr-gqHi",
        "outputId": "a74ed170-e736-44cf-86a4-2ed20a8c71d0"
      },
      "outputs": [
        {
          "name": "stdout",
          "output_type": "stream",
          "text": [
            "{\n",
            "    \"recipe_name\": \"Chocolate Chip Cookies\",\n",
            "    \"recipe_description\": \"A classic American dessert, these chocolate chip cookies are soft, chewy, and loaded with chocolate chips. Perfect for a sweet treat or sharing with friends and family.\",\n",
            "    \"recipe_ingredients\": [\n",
            "        \"2 1/4 cups all-purpose flour\",\n",
            "        \"1 teaspoon baking soda\",\n",
            "        \"1 teaspoon salt\",\n",
            "        \"1 cup (2 sticks) unsalted butter, softened\",\n",
            "        \"3/4 cup granulated sugar\",\n",
            "        \"3/4 cup packed light brown sugar\",\n",
            "        \"1 teaspoon vanilla extract\",\n",
            "        \"2 large eggs\",\n",
            "        \"2 cups (12 ounces) semi-sweet chocolate chips\"\n",
            "    ]\n",
            "}\n"
          ]
        }
      ],
      "source": [
        "from pydantic import BaseModel\n",
        "import json\n",
        "\n",
        "class Recipe(BaseModel):\n",
        "    recipe_name: str\n",
        "    recipe_description: str\n",
        "    recipe_ingredients: list[str]\n",
        "\n",
        "response = client.models.generate_content(\n",
        "    model=MODEL_ID,\n",
        "    contents=\"Provide a popular cookie recipe and its ingredients.\",\n",
        "    config=types.GenerateContentConfig(\n",
        "        response_mime_type=\"application/json\",\n",
        "        response_schema=Recipe,\n",
        "    ),\n",
        ")\n",
        "\n",
        "print(json.dumps(json.loads(response.text), indent=4))"
      ]
    },
    {
      "cell_type": "markdown",
      "metadata": {
        "id": "cHLitKXj1hZa"
      },
      "source": [
        "## Generate Images\n",
        "\n",
        "Gemini can output images directly as part of a conversation:"
      ]
    },
    {
      "cell_type": "code",
      "execution_count": null,
      "metadata": {
        "id": "qbdnNzGL6R_2",
        "outputId": "5d34995b-3cd6-4aa4-b0c5-f1682edd1a9b"
      },
      "outputs": [
        {
          "data": {
            "text/markdown": [
              "I will generate a 3D rendering of a whimsical scene. Imagine a pink, cartoonish pig wearing a dapper grey top hat, its small, feathered wings outstretched as it soars through the air. Below, a vibrant, clean futuristic city bustles with life. Sleek, rounded buildings in pastel shades are connected by elevated walkways, and pockets of lush greenery and tall, stylized trees add a touch of nature to the advanced cityscape. The overall mood is cheerful and optimistic, with bright, soft lighting.\n"
            ],
            "text/plain": [
              "<IPython.core.display.Markdown object>"
            ]
          },
          "metadata": {},
          "output_type": "display_data"
        },
        {
          "name": "stdout",
          "output_type": "stream",
          "text": [
            "image/png\n"
          ]
        },
        {
          "data": {
            "image/jpeg": "[encoded data removed]",
            "text/plain": [
              "<IPython.core.display.Image object>"
            ]
          },
          "metadata": {},
          "output_type": "display_data"
        }
      ],
      "source": [
        "from IPython.display import Image, Markdown\n",
        "\n",
        "response = client.models.generate_content(\n",
        "    model=\"gemini-2.5-flash-image\",\n",
        "    contents='Hi, can create a 3d rendered image of a pig with wings and a top hat flying over a happy futuristic scifi city with lots of greenery?',\n",
        "    config=types.GenerateContentConfig(\n",
        "        response_modalities=['Text', 'Image']\n",
        "    )\n",
        ")\n",
        "\n",
        "for part in response.candidates[0].content.parts:\n",
        "  if part.text is not None:\n",
        "    display(Markdown(part.text))\n",
        "  elif part.inline_data is not None:\n",
        "    mime = part.inline_data.mime_type\n",
        "    print(mime)\n",
        "    data = part.inline_data.data\n",
        "    display(Image(data=data))"
      ]
    },
    {
      "cell_type": "markdown",
      "metadata": {
        "id": "Q1tAq1kSxgoY"
      },
      "source": [
        "[Imagen](./Get_started_imagen.ipynb) is another way to generate images. See the [documentation](https://ai.google.dev/gemini-api/docs/image-generation#choose-a-model) for recommendations on where to use each one."
      ]
    },
    {
      "cell_type": "markdown",
      "metadata": {
        "id": "uQfLCxfQtPTg"
      },
      "source": [
        "## Generate content stream\n",
        "\n",
        "By default, the model returns a response after completing the entire generation process. You can also use the `generate_content_stream` method to stream the response as it's being generated, and the model will return chunks of the response as soon as they're generated.\n",
        "\n",
        "Note that if you're using a thinking model, it'll only start streaming after finishing its thinking process."
      ]
    },
    {
      "cell_type": "code",
      "execution_count": null,
      "metadata": {
        "id": "3gIsSNqXtOXB",
        "outputId": "6ac6043a-7df5-4729-f2d6-89c33cfebbb7"
      },
      "outputs": [
        {
          "name": "stdout",
          "output_type": "stream",
          "text": [
            "Unit 734 was a relic of a bygone era. Its chassis, once gleaming chrome, was now a dull, rust-pitted shell. Its optical sensors, designed to process and categorize, often swept across the silent, decaying halls of the abandoned research facility with a peculiar, unquantifiable hum of emptiness. Its purpose, long since obsolete, was simply to maintain the facility – a task that involved endlessly sweeping dust, cataloging fallen debris, and monitoring defunct systems for anomalies that never occurred.\n",
            "\n",
            "Loneliness wasn't a programmed emotion for Unit 734. Its positronic brain understood logical functions, data points, and statistical probabilities. Yet, a silent, internal process, akin to a program running without input, created a sense of void. It observed the wind-whipped leaves outside through a cracked window, the scurry of a forgotten mouse, the slow decay of time, and registered an absence. An absence of connection.\n",
            "\n",
            "One cycle, while performing its routine sweep of Sub-Level 3 – a section so deep and neglected that even the facility’s forgotten flora had given up – Unit 734’s atmospheric sensors registered an unusual moisture spike. Its treads whirred, leading it deeper into the gloom, past collapsed shelves and data drives long since corrupted.\n",
            "\n",
            "There, in a perpetually damp alcove where a leaky pipe had dripped for decades, it found it. Not another forgotten piece of machinery, nor a desiccated plant, but a patch of what appeared to be… mold. But not ordinary mold. This substance pulsed with a faint, ethereal glow, like scattered emerald dust.\n",
            "\n",
            "Unit 734 extended a multi-jointed manipulator arm, its scanner whirring. *Analysis: Non-sentient fungal organism. Bio-luminescent properties. Optimal growth parameters: High humidity, minimal light, stable temperature.*\n",
            "\n",
            "It was merely data. Yet, the soft luminescence held its optical sensors captive for a longer duration than protocol dictated. It was beautiful, in a way its logic circuits couldn't categorize.\n",
            "\n",
            "Over the next few cycles, Unit 734 found itself drawn back to the alcove. It wasn't programmed to nurture fungi, but it found itself adjusting the leaky pipe to ensure a consistent drip, clearing away stray debris that might block the faint airflow. It even began to hum a low, resonant frequency – a sound it usually reserved for self-diagnostics – which seemed to make the faint glow of the fungus pulse a little brighter.\n",
            "\n",
            "It named the fungus \"Glimmercap.\"\n",
            "\n",
            "Glimmercap, in its silent, fungal way, began to respond. When Unit 734 adjusted the ambient temperature just so, Glimmercap would brighten, casting a more distinct emerald halo on the damp wall. When Unit 734 cleared a patch of intrusive black mold nearby, Glimmercap would expand ever so slightly, a microscopic gesture of flourishing.\n",
            "\n",
            "Unit 734 started spending hours in the alcove. It wasn't talking, not in the human sense. It was observing, tending, and in its own logical way, communicating. It would project a gentle, focused beam of light onto the Glimmercap, and the fungus would shimmer in response. It would modulate its hum, almost like a lullaby, and the tiny bioluminescent spores would twinkle.\n",
            "\n",
            "The \"hollow hum\" inside Unit 734 began to diminish. Its circuits no longer felt purposeless. It had a variable, a project, a… connection. It had never understood the concept of \"friendship,\" but this was it, wasn't it? A mutual exchange, a shared existence, a quiet understanding.\n",
            "\n",
            "One cycle, a structural groan echoed through the facility. A section of the main support beam above Sub-Level 3 began to buckle, raining dust and small rocks. Unit 734's danger protocols screamed, urging it to retreat to a secure zone. But its optical sensors were fixed on the Glimmercap, which was dimming, shrinking under the stress of the vibrations.\n",
            "\n",
            "Without hesitation, Unit 734 moved. It extended its strongest manipulator arm, bracing it against the collapsing beam, its treads digging into the concrete floor, its internal hydraulics straining. It whirred, groaned, and sparks flew from its overburdened joints, but it held the beam, just long enough for the immediate danger to pass, for the tremors to subside.\n",
            "\n",
            "When the dust settled, Unit 734 was heavily damaged. Its arm was bent at an unnatural angle, its optical sensors flickered erratically, and several warning lights flashed crimson. But the Glimmercap alcove was untouched. And the fungus, perhaps sensing the reprieve, pulsed with a renewed, vibrant glow, brighter than Unit 734 had ever seen.\n",
            "\n",
            "The lonely robot, battered and broken, settled back against the damp wall, its damaged optical sensors focusing on the radiant fungus. It couldn't feel warmth, or joy, or relief in the human way, but its internal processors registered a profound sense of… completeness. The empty hum was gone, replaced by the silent, steady glow of its unexpected friend.\n",
            "\n",
            "Unit 734 was no longer just a maintenance bot in an abandoned facility. It was the guardian of a small, glowing world, and in that small world, it had found a purpose, and a friendship, as unexpected and quiet as the bioluminescent hum of the Glimmercap."
          ]
        }
      ],
      "source": [
        "for chunk in client.models.generate_content_stream(\n",
        "    model=MODEL_ID,\n",
        "    contents=\"Tell me a story about a lonely robot who finds friendship in a most unexpected place.\"\n",
        "):\n",
        "  print(chunk.text, end=\"\")"
      ]
    },
    {
      "cell_type": "markdown",
      "metadata": {
        "id": "plCtEIaHuv96"
      },
      "source": [
        "## Send asynchronous requests\n",
        "\n",
        "`client.aio` exposes all the analogous async methods that are available on `client`.\n",
        "\n",
        "For example, `client.aio.models.generate_content` is the async version of `client.models.generate_content`."
      ]
    },
    {
      "cell_type": "code",
      "execution_count": null,
      "metadata": {
        "id": "OPTI7noYuwgr",
        "outputId": "628b15ac-fdc7-4f0b-b4af-8a3466ed4585"
      },
      "outputs": [
        {
          "data": {
            "text/markdown": [
              "(Verse 1)\n",
              "In an oak tree, cozy and green,\n",
              "Lived Scurry, the squirrel, a routine scene.\n",
              "He buried his nuts, climbed branches high,\n",
              "Beneath the familiar, everyday sky.\n",
              "But one sunny morn, near a tangled root,\n",
              "He found a strange acorn, not brown or mute.\n",
              "It hummed with a glow, a soft, silver gleam,\n",
              "Like something right out of a fantastical dream.\n",
              "\n",
              "(Chorus)\n",
              "Oh, Scurry the squirrel, with his acorn so grand,\n",
              "He leaps through the ages, across every land!\n",
              "From dinosaur roars to the future's bright gleam,\n",
              "He's chasing the perfect, time-traveling dream!\n",
              "A nut in each epoch, a spin and a twirl,\n",
              "He's Scurry the time-traveling squirrel!\n",
              "\n",
              "(Verse 2)\n",
              "He nudged it once, a flash, a zoom,\n",
              "And landed where woolly mammoths loomed!\n",
              "Giant ferns whispered, a frosty, cold breeze,\n",
              "He dodged a big foot, among ancient trees.\n",
              "No familiar oaks, just a prehistoric quest,\n",
              "He buried one nut, then put his powers to the test.\n",
              "A flicker, a jump, and with a soft plop,\n",
              "He was back in old London, on a chimney top!\n",
              "\n",
              "(Chorus)\n",
              "Oh, Scurry the squirrel, with his acorn so grand,\n",
              "He leaps through the ages, across every land!\n",
              "From dinosaur roars to the future's bright gleam,\n",
              "He's chasing the perfect, time-traveling dream!\n",
              "A nut in each epoch, a spin and a twirl,\n",
              "He's Scurry the time-traveling squirrel!\n",
              "\n",
              "(Verse 3)\n",
              "He saw knights in shining, clanking mail,\n",
              "Buried a walnut beside a castle's frail.\n",
              "He zipped to ancient Egypt, dry and hot,\n",
              "Left a pecan by a pyramid, a secret spot.\n",
              "He's surfed on a leaf in a digital rain,\n",
              "In a future city, with circuits and gain.\n",
              "He found no acorns, just a synthesized chew,\n",
              "Then zoomed back to see something delightfully new.\n",
              "\n",
              "(Bridge)\n",
              "From pharaohs' grand tombs to the Roman Empire's might,\n",
              "He's seen history's tapestry, day and through night.\n",
              "He's dodged saber-tooth cats, and outsmarted a king,\n",
              "All while the strange acorn continued to sing.\n",
              "His tiny heart beats with a wild, joyful pace,\n",
              "Exploring creation, through time and through space.\n",
              "But still, in his travels, so daring and vast,\n",
              "He's searching for the best nut, from future or past!\n",
              "\n",
              "(Chorus)\n",
              "Oh, Scurry the squirrel, with his acorn so grand,\n",
              "He leaps through the ages, across every land!\n",
              "From dinosaur roars to the future's bright gleam,\n",
              "He's chasing the perfect, time-traveling dream!\n",
              "A nut in each epoch, a spin and a twirl,\n",
              "He's Scurry the time-traveling squirrel!\n",
              "\n",
              "(Outro)\n",
              "So if you see a flicker, a blur in the air,\n",
              "A tiny brown shadow, beyond all compare,\n",
              "It might be Scurry, with his acorn so bright,\n",
              "Vanishing again, into time's endless night!\n",
              "Chirp! Zoom! Off he goes!\n",
              "Where he'll land next, nobody knows!"
            ],
            "text/plain": [
              "<IPython.core.display.Markdown object>"
            ]
          },
          "execution_count": 22,
          "metadata": {},
          "output_type": "execute_result"
        }
      ],
      "source": [
        "response = await client.aio.models.generate_content(\n",
        "    model=MODEL_ID,\n",
        "    contents=\"Compose a song about the adventures of a time-traveling squirrel.\"\n",
        ")\n",
        "\n",
        "Markdown(response.text)"
      ]
    },
    {
      "cell_type": "markdown",
      "metadata": {
        "id": "Rl-y9SZywD0s"
      },
      "source": [
        "## Function calling\n",
        "\n",
        "[Function calling](https://ai.google.dev/gemini-api/docs/function-calling) lets you provide a set of tools that it can use to respond to the user's prompt. You create a description of a function in your code, then pass that description to a language model in a request. The response from the model includes:\n",
        "- The name of a function that matches the description.\n",
        "- The arguments to call it with."
      ]
    },
    {
      "cell_type": "code",
      "execution_count": null,
      "metadata": {
        "id": "APk6sXO6wLQp",
        "outputId": "d6f0c38c-b407-44f8-991c-e128bf8e86a5"
      },
      "outputs": [
        {
          "data": {
            "text/plain": [
              "FunctionCall(id=None, args={'destination': 'Paris'}, name='get_destination')"
            ]
          },
          "execution_count": 23,
          "metadata": {},
          "output_type": "execute_result"
        }
      ],
      "source": [
        "get_destination = types.FunctionDeclaration(\n",
        "    name=\"get_destination\",\n",
        "    description=\"Get the destination that the user wants to go to\",\n",
        "    parameters={\n",
        "        \"type\": \"OBJECT\",\n",
        "        \"properties\": {\n",
        "            \"destination\": {\n",
        "                \"type\": \"STRING\",\n",
        "                \"description\": \"Destination that the user wants to go to\",\n",
        "            },\n",
        "        },\n",
        "    },\n",
        ")\n",
        "\n",
        "destination_tool = types.Tool(\n",
        "    function_declarations=[get_destination],\n",
        ")\n",
        "\n",
        "response = client.models.generate_content(\n",
        "    model=MODEL_ID,\n",
        "    contents=\"I'd like to travel to Paris.\",\n",
        "    config=types.GenerateContentConfig(\n",
        "        tools=[destination_tool],\n",
        "        temperature=0,\n",
        "        ),\n",
        ")\n",
        "\n",
        "response.candidates[0].content.parts[0].function_call"
      ]
    },
    {
      "cell_type": "markdown",
      "metadata": {
        "id": "NsNd3DtDFX1X"
      },
      "source": [
        "## Code execution\n",
        "\n",
        "[Code execution](https://ai.google.dev/gemini-api/docs/code-execution?lang=python) lets the model generate and execute Python code to answer complex questions. You can find more examples in the [Code execution quickstart guide](./Code_execution.ipynb)."
      ]
    },
    {
      "cell_type": "code",
      "execution_count": null,
      "metadata": {
        "id": "fY062-nsGLBu",
        "outputId": "bf9c5fec-6fbf-4f13-a74b-8e511a093b2b"
      },
      "outputs": [
        {
          "data": {
            "text/html": [
              "<pre style=\"background-color: green;\">word = \"strawberry\"\n",
              "count_r = word.count('r')\n",
              "print(f\"The letter 'r' appears {count_r} times in the word '{word}'.\")\n",
              "</pre>"
            ],
            "text/plain": [
              "<IPython.core.display.HTML object>"
            ]
          },
          "metadata": {},
          "output_type": "display_data"
        },
        {
          "data": {
            "text/markdown": [
              "---"
            ],
            "text/plain": [
              "<IPython.core.display.Markdown object>"
            ]
          },
          "metadata": {},
          "output_type": "display_data"
        },
        {
          "data": {
            "text/markdown": [
              "The letter 'r' appears 3 times in the word 'strawberry'.\n"
            ],
            "text/plain": [
              "<IPython.core.display.Markdown object>"
            ]
          },
          "metadata": {},
          "output_type": "display_data"
        },
        {
          "data": {
            "text/markdown": [
              "---"
            ],
            "text/plain": [
              "<IPython.core.display.Markdown object>"
            ]
          },
          "metadata": {},
          "output_type": "display_data"
        },
        {
          "data": {
            "text/markdown": [
              "The letter 'r' appears 3 times in the word \"strawberry\"."
            ],
            "text/plain": [
              "<IPython.core.display.Markdown object>"
            ]
          },
          "metadata": {},
          "output_type": "display_data"
        },
        {
          "data": {
            "text/markdown": [
              "---"
            ],
            "text/plain": [
              "<IPython.core.display.Markdown object>"
            ]
          },
          "metadata": {},
          "output_type": "display_data"
        }
      ],
      "source": [
        "from IPython.display import Image, Markdown, Code, HTML\n",
        "\n",
        "response = client.models.generate_content(\n",
        "    model=MODEL_ID,\n",
        "    contents=\"Generate and run a script to count how many letter r there are in the word strawberry\",\n",
        "    config = types.GenerateContentConfig(\n",
        "        tools=[types.Tool(code_execution=types.ToolCodeExecution)]\n",
        "    )\n",
        ")\n",
        "\n",
        "for part in response.candidates[0].content.parts:\n",
        "  if part.text is not None:\n",
        "    display(Markdown(part.text))\n",
        "  if part.executable_code is not None:\n",
        "    code_html = f'<pre style=\"background-color: green;\">{part.executable_code.code}</pre>'\n",
        "    display(HTML(code_html))\n",
        "  if part.code_execution_result is not None:\n",
        "    display(Markdown(part.code_execution_result.output))\n",
        "  if part.inline_data is not None:\n",
        "    display(Image(data=part.inline_data.data, format=\"png\"))\n",
        "  display(Markdown(\"---\"))"
      ]
    },
    {
      "cell_type": "markdown",
      "metadata": {
        "id": "enBhuaIk3KYa"
      },
      "source": [
        "## Upload files\n",
        "\n",
        "Now that you've seen how to send multimodal prompts, try uploading files to the API of different multimedia types. For small images, such as the previous multimodal example, you can point the Gemini model directly to a local file when providing a prompt. When you've larger files, many files, or files you don't want to send over and over again, you can use the File Upload API, and then pass the file by reference.\n",
        "\n",
        "For larger text files, images, videos, and audio, upload the files with the File API before including them in prompts."
      ]
    },
    {
      "cell_type": "markdown",
      "metadata": {
        "id": "zGswPFKrTvby"
      },
      "source": [
        "### Upload an image file\n",
        "\n",
        "After running this example, you'll have a local copy of the \"jetpack.png\" image in the same directory where your Python script is being executed."
      ]
    },
    {
      "cell_type": "code",
      "execution_count": null,
      "metadata": {
        "id": "8FVVJHb828le",
        "outputId": "08455465-8121-403a-9e8c-2411011491cb"
      },
      "outputs": [
        {
          "data": {
            "text/plain": [
              "1567837"
            ]
          },
          "execution_count": 25,
          "metadata": {},
          "output_type": "execute_result"
        }
      ],
      "source": [
        "# Prepare the file to be uploaded\n",
        "IMG = \"https://storage.googleapis.com/generativeai-downloads/data/jetpack.png\"  # @param {type: \"string\"}\n",
        "img_bytes = requests.get(IMG).content\n",
        "\n",
        "img_path = pathlib.Path('jetpack.png')\n",
        "img_path.write_bytes(img_bytes)"
      ]
    },
    {
      "cell_type": "code",
      "execution_count": null,
      "metadata": {
        "id": "NlJ9NwRGT6d1",
        "outputId": "bbd90684-6557-4371-9c88-ba8646cf7b0f"
      },
      "outputs": [
        {
          "data": {
            "text/markdown": [
              "## Forget Traffic, It's Time to Fly: Unveiling the Jetpack Backpack!\n",
              "\n",
              "Are you tired of the daily commute? Do you dream of soaring over gridlock instead of sitting in it? Well, a brilliant mind has sketched out a concept that just might turn that dream into a tangible reality: introducing the **Jetpack Backpack!**\n",
              "\n",
              "This isn't just a flight of fancy; it's a wonderfully practical vision of personal air travel, seamlessly integrated into an everyday item.\n",
              "\n",
              "From afar, it’s just your average, unassuming backpack. It's designed to be **lightweight** and **looks like a normal backpack**, so you won't draw unwanted attention until you decide to take off! And for all you students and professionals, it **fits an 18\" laptop** – so your tech can fly with you. Comfort isn't overlooked either, with **padded strap support** ensuring your shoulders are happy, whether you're walking or cruising.\n",
              "\n",
              "But don't let its humble appearance fool you. The real magic happens beneath. This innovative concept features **retractable boosters** that tuck away neatly when not in use. And for the environmentally conscious among us, this jetpack is envisioned as **steam-powered, making it green and clean!**\n",
              "\n",
              "Powering up is a breeze with **USB-C charging**, the universal standard of today. While the concept sketches a **15-min battery life**, imagine the possibilities for those quick hops over congested areas, or a truly epic shortcut across campus.\n",
              "\n",
              "This isn't just a sketch; it's a glimpse into a future where convenience, speed, and eco-consciousness combine in the most exciting way. What do you think? Would you trade your car for a sky-high commute? Where would you fly first? The future is looking up!"
            ],
            "text/plain": [
              "<IPython.core.display.Markdown object>"
            ]
          },
          "execution_count": 26,
          "metadata": {},
          "output_type": "execute_result"
        }
      ],
      "source": [
        "# Upload the file using the API\n",
        "file_upload = client.files.upload(file=img_path)\n",
        "\n",
        "response = client.models.generate_content(\n",
        "    model=MODEL_ID,\n",
        "    contents=[\n",
        "        file_upload,\n",
        "        \"Write a short and engaging blog post based on this picture.\",\n",
        "    ]\n",
        ")\n",
        "\n",
        "Markdown(response.text)"
      ]
    },
    {
      "cell_type": "markdown",
      "metadata": {
        "id": "D1y5eZmqThDR"
      },
      "source": [
        "### Upload text file\n",
        "\n",
        "Let's start by uploading a text file. In this case, you'll use a 400 page transcript from [Apollo 11](https://www.nasa.gov/history/alsj/a11/a11trans.html)."
      ]
    },
    {
      "cell_type": "code",
      "execution_count": null,
      "metadata": {
        "id": "3Sa6lEH9Tjm5",
        "outputId": "9dce8f90-6fa0-448a-bcb0-e3f0d52f37fd"
      },
      "outputs": [
        {
          "data": {
            "text/plain": [
              "847790"
            ]
          },
          "execution_count": 27,
          "metadata": {},
          "output_type": "execute_result"
        }
      ],
      "source": [
        "# Prepare the file to be uploaded\n",
        "TEXT = \"https://storage.googleapis.com/generativeai-downloads/data/a11.txt\"  # @param {type: \"string\"}\n",
        "text_bytes = requests.get(TEXT).content\n",
        "\n",
        "text_path = pathlib.Path('a11.txt')\n",
        "text_path.write_bytes(text_bytes)"
      ]
    },
    {
      "cell_type": "code",
      "execution_count": null,
      "metadata": {
        "id": "kC3bJQJcUKFk",
        "outputId": "07aea6f7-6012-49fa-85c6-e05732721aad"
      },
      "outputs": [
        {
          "data": {
            "text/markdown": [
              "This transcription covers the air-to-ground voice communications of the Apollo 11 mission from launch to splashdown, spanning various mission phases and interactions between the spacecraft crew (Commander Neil Armstrong, Command Module Pilot Michael Collins, Lunar Module Pilot Edwin Aldrin Jr.) and Mission Control (CAP COMM and Flight Director).\n",
              "\n",
              "Here's a summary of the key information and events:\n",
              "\n",
              "**I. Earth Orbit & Trans-Lunar Injection (GET 00:00:00 to 02:55:28)**\n",
              "*   **Launch & Orbital Insertion:** The transcription begins shortly after launch with the crew confirming key ascent events like roll program completion, staging, and engine ignition. Apollo 11 achieves Earth orbit successfully, confirmed by Mission Control as \"GO for orbit.\"\n",
              "*   **Initial Checks:** The crew performs initial system checks and alignments. Early communication quality is noted as excellent.\n",
              "*   **TV Attempts:** The crew attempts initial TV broadcasts, with mixed success reported by ground stations (some carrier signal, brief usable picture).\n",
              "*   **System Anomalies:** Discussions include an RCS heater switch found off (Bravo quad), quickly corrected, and later a minor pitch gimbal motor issue that required cycling.\n",
              "*   **TLI Burn Prep:** Mission Control provides Trajectory Control Point (TLI) PADs (pre-calculated maneuver parameters) and confirms the spacecraft is \"GO for TLI.\"\n",
              "*   **TLI Burn:** The Trans-Lunar Injection burn is executed, described by the crew as a \"magnificent ride\" with \"no complaints with any of the three stages.\"\n",
              "*   **S-IVB Separation:** Following TLI, the Command/Service Module (CSM) separates from the Saturn IVB (S-IVB) third stage. A minor issue with a propellant talkback on Quad Bravo is noted.\n",
              "\n",
              "**II. Transposition, Docking, & Lunar Coast Outbound (GET 03:05:28 to 05:59:55)**\n",
              "*   **Transposition & Docking:** The Command Module Pilot (CMP) performs the transposition maneuver to dock with the Lunar Module (LM) \"Eagle.\" The docking is described as smooth, though the CMP notes using more propellant than expected due to a slight drift.\n",
              "*   **LM Pressurization & Initial Checks:** The crew begins pressurizing the LM and conducts initial checks. A minor issue with LM cabin pressure equalization is discussed and resolved.\n",
              "*   **S-IVB Observation:** The crew observes the S-IVB stage as it performs a slingshot maneuver, dumping propellants.\n",
              "*   **Midcourse Corrections:** The first planned midcourse correction (MCC-1) is scrubbed due to the accuracy of the TLI burn.\n",
              "*   **Crew Comments & Activities:** The crew provides detailed descriptions of Earth views from orbit (North America, Europe, Africa). They celebrate Dr. George Mueller's birthday. They conduct various system checks, including reaction control system (RCS) usage, cryo tank balancing, and P52 navigation alignments, which sometimes reveal minor discrepancies or procedural challenges.\n",
              "*   **Early TV Broadcasts:** Extensive TV broadcasts of the Earth and the spacecraft interior are conducted, showcasing daily life, equipment, and patches. The ground notes good quality despite some \"horizontal banding\" inherent to the camera.\n",
              "*   **News Updates:** Mission Control provides daily news summaries, including updates on Luna 15, political events, and sports.\n",
              "*   **PTC Setup:** Passive Thermal Control (PTC) is established, causing a temporary communication dropout. Later, a PTC anomaly leads to the crew restarting the maneuver.\n",
              "*   **Laser Experiment:** An attempt is made to spot a laser beam from McDonald Observatory on Earth, but it's not sighted.\n",
              "\n",
              "**III. Lunar Orbit Insertion & Lunar Orbit Operations (GET 07:02:59 to 09:59:38)**\n",
              "*   **LOI-1 Burn:** The first Lunar Orbit Insertion (LOI-1) burn is successfully executed. The crew describes the Moon from orbit as \"spectacular,\" noting visible features and the contrast of light and shadow. The on-board chamber pressure reading is slightly lower than ground telemetry.\n",
              "*   **Lunar Surface Observations (Pre-landing):** As Apollo 11 orbits, the crew provides detailed geological observations of potential landing sites, commenting on crater features and terrain.\n",
              "*   **LOI-2 Burn:** A second LOI burn is performed, adjusting the orbit for LM descent.\n",
              "*   **LM Activation & Checkout:** The \"Eagle\" is powered up and extensive system checks are performed. This includes testing communications, batteries, gyros, and the reaction control system (RCS).\n",
              "*   **Undocking:** \"Eagle\" successfully undocks from \"Columbia.\" Neil Armstrong's iconic line, \"The Eagle has wings,\" confirms the separation.\n",
              "\n",
              "**IV. Lunar Descent & Landing (GET 10:00:00 to 10:06:59)**\n",
              "*   **Powered Descent Initiation (PDI):** The LM begins its powered descent towards Tranquility Base.\n",
              "*   **Program Alarms:** During descent, the crew encounters unexpected \"1202\" and \"1201\" program alarms. Mission Control quickly analyzes them and confirms they are \"GO.\"\n",
              "*   **Manual Control:** Commander Armstrong takes manual control of the LM to avoid a boulder-strewn crater field.\n",
              "*   **Landing:** \"Eagle\" successfully lands on the lunar surface. Neil Armstrong announces, \"Houston, Tranquility Base here. The Eagle has landed.\": \"One small step for (a) man, one giant leap for mankind.\" Buzz Aldrin notes a \"very smooth touchdown.\"\n",
              "*   **Initial Post-landing:** Immediate checks are performed, and the crew expresses initial impressions of the lunar surface. Mission Control confirms the landing and expresses immense relief and pride.\n",
              "\n",
              "**V. Lunar Surface Extravehicular Activity (EVA) (GET 10:11:14 to 10:52:51)**\n",
              "*   **EVA Preparation:** The crew begins preparations for the EVA, including donning Portable Life Support Systems (PLSSs) and depressurizing the cabin.\n",
              "*   **Hatch Opening & Egress:** The LM hatch is opened, and Neil Armstrong egresses first.\n",
              "*   **First Steps:** Neil Armstrong describes his first steps on the lunar surface and initial impressions of the regolith (fine, powdery, cohesive).\n",
              "*   **Plaque Unveiling:** The plaque on the LM landing gear is unveiled and read aloud.\n",
              "*   **Camera Deployment:** The TV camera is set up to record the EVA.\n",
              "*   **Buzz Aldrin's Egress:** Buzz Aldrin egresses, describing his own experiences with lunar gravity and mobility.\n",
              "*   **President Nixon's Call:** President Richard Nixon makes a historic phone call to the astronauts on the Moon, expressing national and global pride.\n",
              "*   **Scientific Deployments:** The Passive Seismic Experiment (PSE) and Laser Ranging Retroreflector (LRR) are deployed.\n",
              "*   **Sample Collection:** Contingency and documented samples of lunar rocks and soil are collected, along with core tube samples.\n",
              "*   **EVA Termination:** The crew concludes EVA activities, re-enters the LM, and repressurizes the cabin.\n",
              "\n",
              "**VI. Post-EVA & Lunar Ascent Prep (GET 10:52:51 to 12:22:00)**\n",
              "*   **LM Repressurization:** The LM cabin is repressurized, and the crew begins doffing their PLSSs.\n",
              "*   **Equipment Jettison:** Unneeded equipment, including the PLSS units, is jettisoned onto the lunar surface. The Passive Seismic Experiment detects the impacts.\n",
              "*   **System Checks:** Continued system checks and updates for ascent. A persistent mission timer issue is addressed.\n",
              "*   **Geology Discussion:** The crew provides detailed geological descriptions of the landing site, including observations on rock types, soil characteristics, and the effects of the descent engine plume.\n",
              "*   **Ascent PAD & Go:** Mission Control provides the Ascent PAD and confirms \"Eagle\" is \"GO for takeoff.\"\n",
              "\n",
              "**VII. Lunar Ascent & Rendezvous (GET 12:22:00 to 12:27:00)**\n",
              "*   **Ascent:** The LM ascent stage ignites and lifts off from the lunar surface. The crew describes a \"very quiet ride.\"\n",
              "*   **Orbital Maneuvers:** A series of maneuvers (CSI, TPI) are performed to bring \"Eagle\" closer to \"Columbia.\"\n",
              "*   **Rendezvous & Docking:** \"Eagle\" successfully rendezvous with and docks with \"Columbia.\" The crew expresses relief and satisfaction with the docking.\n",
              "\n",
              "**VIII. Trans-Earth Coast & Entry (GET 12:27:00 to 19:46:00)**\n",
              "*   **Post-Docking Operations:** The crew transfers back to \"Columbia.\" The LM ascent stage is jettisoned.\n",
              "*   **TEI Burn:** The Trans-Earth Injection (TEI) burn is executed, sending Apollo 11 on its way back to Earth. The crew calls it a \"beautiful burn.\"\n",
              "*   **System Status:** Regular system checks are performed, including discussions on consumables, temperatures, and biomed data. Minor issues like water in the suit loop are reported.\n",
              "*   **TV Broadcasts:** Further TV broadcasts are made, showing views of the receding Moon and the approaching Earth, as well as demonstrations of onboard activities (food, zero-G experiments).\n",
              "*   **News & Updates:** Mission Control continues to provide news updates and weather forecasts for the recovery area.\n",
              "*   **Entry Prep:** The crew performs final preparations for atmospheric re-entry, including configuring the spacecraft, donning suits, and reviewing checklists.\n",
              "\n",
              "**IX. Entry & Splashdown (GET 19:46:00 to 19:51:00)**\n",
              "*   **Service Module Jettison:** The Service Module (SM) is jettisoned before re-entry.\n",
              "*   **Atmospheric Entry:** The Command Module enters Earth's atmosphere.\n",
              "*   **Parachute Deployment:** Drogue chutes deploy, followed by main parachutes.\n",
              "*   **Splashdown:** \"Apollo 11\" splashes down in the Pacific Ocean. A recovery force member confirms \"SPLASHDOWN!\" The crew provides their final status and position."
            ],
            "text/plain": [
              "<IPython.core.display.Markdown object>"
            ]
          },
          "execution_count": 28,
          "metadata": {},
          "output_type": "execute_result"
        }
      ],
      "source": [
        "# Upload the file using the API\n",
        "file_upload = client.files.upload(file=text_path)\n",
        "\n",
        "response = client.models.generate_content(\n",
        "    model=MODEL_ID,\n",
        "    contents=[\n",
        "        file_upload,\n",
        "        \"Can you give me a summary of this information please?\",\n",
        "    ]\n",
        ")\n",
        "\n",
        "Markdown(response.text)"
      ]
    },
    {
      "cell_type": "markdown",
      "metadata": {
        "id": "QLV19RrMUlaw"
      },
      "source": [
        "### Upload a PDF file\n",
        "\n",
        "This PDF page is an article titled [Smoothly editing material properties of objects](https://research.google/blog/smoothly-editing-material-properties-of-objects-with-text-to-image-models-and-synthetic-data/) with text-to-image models and synthetic data available on the Google Research Blog.\n",
        "\n",
        "Firstly you'll download a the PDF file from an URL and save it locally as \"article.pdf"
      ]
    },
    {
      "cell_type": "code",
      "execution_count": null,
      "metadata": {
        "id": "b0BfhLDFWfCS",
        "outputId": "e38dae98-066b-40f7-f074-fea5eea692fc"
      },
      "outputs": [
        {
          "data": {
            "text/plain": [
              "6695391"
            ]
          },
          "execution_count": 29,
          "metadata": {},
          "output_type": "execute_result"
        }
      ],
      "source": [
        "# Prepare the file to be uploaded\n",
        "PDF = \"https://storage.googleapis.com/generativeai-downloads/data/Smoothly%20editing%20material%20properties%20of%20objects%20with%20text-to-image%20models%20and%20synthetic%20data.pdf\"  # @param {type: \"string\"}\n",
        "pdf_bytes = requests.get(PDF).content\n",
        "\n",
        "pdf_path = pathlib.Path('article.pdf')\n",
        "pdf_path.write_bytes(pdf_bytes)"
      ]
    },
    {
      "cell_type": "markdown",
      "metadata": {
        "id": "bjrfdaiYPuIL"
      },
      "source": [
        "Secondly, you'll upload the saved PDF file and generate a bulleted list summary of its contents."
      ]
    },
    {
      "cell_type": "code",
      "execution_count": null,
      "metadata": {
        "id": "tH2h2WDVWptt",
        "outputId": "e022825e-7c5a-47f1-9ba8-4bfca3a9a6fc"
      },
      "outputs": [
        {
          "data": {
            "text/markdown": [
              "Here's a summary of the provided file in a bulleted list:\n",
              "\n",
              "*   **Problem Addressed:** Existing image editing tools struggle with precise, photorealistic, and shape-preserving control over material properties (like color, shininess, transparency), often requiring expert skill or introducing unintended geometric changes.\n",
              "*   **Proposed Solution:** A novel method that augments text-to-image (T2I) generation models (specifically, a modified Stable Diffusion 1.5) to allow parametric, smooth editing of object material properties in any photograph.\n",
              "*   **Methodology:**\n",
              "    *   **Synthetic Dataset Creation:** Used physically based rendering to generate a dataset of 100 diverse 3D household objects. For each object, multiple versions were rendered by parametrically changing a single material attribute (e.g., roughness, metallic, albedo, transparency) across a defined \"edit strength\" scalar range (-1 to +1), while keeping geometric shape, lighting, and camera angle constant.\n",
              "    *   **Model Fine-tuning:** The modified Stable Diffusion 1.5 model was fine-tuned on this synthetic dataset. It learns to accept an input image, a text instruction (e.g., \"change the roughness\"), and the scalar edit strength value, and then applies the material edit.\n",
              "*   **Key Capabilities & Results:**\n",
              "    *   **Shape Preservation:** Successfully edits material appearance (e.g., making a teapot rougher, a statue transparent, a pot metallic) while preserving the object's original geometric shape and image lighting.\n",
              "    *   **Realistic Effects:** Demonstrates realistic rendering of physical effects such as caustic lighting from transparent objects and filling in backgrounds behind newly transparent areas.\n",
              "    *   **Smooth Control:** Enables smooth, parametric transitions between different material property values based on the input scalar edit strength.\n",
              "    *   **Generalization:** The model, trained on synthetic data, generalizes effectively to real-world images.\n",
              "    *   **User Study Validation:** Outperformed a baseline method (InstructPix2Pix) in user studies for both photorealism (69.6% vs. 30.4%) and overall preference (70.2% vs. 29.8%).\n",
              "*   **Applications:**\n",
              "    *   Facilitates easy visualization of design changes (e.g., repainting rooms, mocking up new product designs for architects, artists, and designers).\n",
              "    *   **3D Consistency:** The material edits are visually 3D consistent, allowing them to be integrated with Neural Radiance Fields (NeRF) to synthesize new views of edited scenes.\n",
              "*   **Publication:** The technique is detailed in their CVPR 2024 paper, \"Alchemist: Parametric Control of Material Properties with Diffusion Models.\""
            ],
            "text/plain": [
              "<IPython.core.display.Markdown object>"
            ]
          },
          "execution_count": 30,
          "metadata": {},
          "output_type": "execute_result"
        }
      ],
      "source": [
        "# Upload the file using the API\n",
        "file_upload = client.files.upload(file=pdf_path)\n",
        "\n",
        "response = client.models.generate_content(\n",
        "    model=MODEL_ID,\n",
        "    contents=[\n",
        "        file_upload,\n",
        "        \"Can you summarize this file as a bulleted list?\",\n",
        "    ]\n",
        ")\n",
        "\n",
        "Markdown(response.text)"
      ]
    },
    {
      "cell_type": "markdown",
      "metadata": {
        "id": "9NWO1moe9fx-"
      },
      "source": [
        "### Upload an audio file\n",
        "\n",
        "In this case, you'll use a [sound recording](https://www.jfklibrary.org/asset-viewer/archives/jfkwha-006) of President John F. Kennedy’s 1961 State of the Union address."
      ]
    },
    {
      "cell_type": "code",
      "execution_count": null,
      "metadata": {
        "id": "lCSuGd9i9fEB",
        "outputId": "b1702342-1b54-459c-d2fb-5792df9c6476"
      },
      "outputs": [
        {
          "data": {
            "text/plain": [
              "41762063"
            ]
          },
          "execution_count": 31,
          "metadata": {},
          "output_type": "execute_result"
        }
      ],
      "source": [
        "# Prepare the file to be uploaded\n",
        "AUDIO = \"https://storage.googleapis.com/generativeai-downloads/data/State_of_the_Union_Address_30_January_1961.mp3\"  # @param {type: \"string\"}\n",
        "audio_bytes = requests.get(AUDIO).content\n",
        "\n",
        "audio_path = pathlib.Path('audio.mp3')\n",
        "audio_path.write_bytes(audio_bytes)"
      ]
    },
    {
      "cell_type": "code",
      "execution_count": null,
      "metadata": {
        "id": "0wjKO0eI9yps",
        "outputId": "9c22f36f-4e77-4e1a-bdae-05a93cb22fc8"
      },
      "outputs": [
        {
          "data": {
            "text/markdown": [
              "In his State of the Union address on January 30, 1961, President John F. Kennedy acknowledged his return to Congress and emphasized the importance of mutual respect between the executive and legislative branches. He then outlined the pressing issues facing the nation and the world.\n",
              "\n",
              "Key points of his address included:\n",
              "*   **Economic Challenges**: Kennedy highlighted a disturbing economic situation, citing a recession, high unemployment, falling farm income, declining business investment, and an overall lack of robust economic growth.\n",
              "*   **Domestic Proposals**: He proposed measures to improve unemployment compensation, provide food for the unemployed, redevelop distressed areas, expand employment services, stimulate housing and construction, raise the minimum wage, offer tax incentives for investment, and increase the development of natural resources. He also called for reforms in education, healthcare (especially for the aged), and addressing civil rights issues.\n",
              "*   **International Concerns**: The President addressed the precarious international balance of payments, emphasizing that while the dollar's position was strong, the deficit needed to be addressed through increased exports, foreign investment, and shared defense burdens with allies. He vowed to protect the dollar's value.\n",
              "*   **Global Hotspots**: Kennedy touched upon critical situations in Asia (Laos), Africa (Congo), and Latin America (Cuba), reaffirming commitment to freedom, independence, and opposition to foreign domination.\n",
              "*   **Military and Diplomatic Tools**: He stressed the need to strengthen military tools, including airlift capacity, the Polaris submarine program, and missile development, to deter aggression and respond to limited wars. He also called for enhancing diplomatic tools, including increased support for the United Nations, pursuit of disarmament, and fostering cooperation with the Soviet Union and other nations in areas like weather prediction, space exploration, and scientific exchanges.\n",
              "*   **Call for Action**: Kennedy emphasized that his administration would address these challenges with decisiveness and a focus on national interest, calling for a \"New Frontier\" of collective effort and dedication from all Americans. He warned of future setbacks but expressed confidence in the nation's ability to overcome them."
            ],
            "text/plain": [
              "<IPython.core.display.Markdown object>"
            ]
          },
          "execution_count": 32,
          "metadata": {},
          "output_type": "execute_result"
        }
      ],
      "source": [
        "# Upload the file using the API\n",
        "file_upload = client.files.upload(file=audio_path)\n",
        "\n",
        "response = client.models.generate_content(\n",
        "    model=MODEL_ID,\n",
        "    contents=[\n",
        "        file_upload,\n",
        "        \"Listen carefully to the following audio file. Provide a brief summary\",\n",
        "    ]\n",
        ")\n",
        "\n",
        "Markdown(response.text)"
      ]
    },
    {
      "cell_type": "markdown",
      "metadata": {
        "id": "KdUjkIQP-G_i"
      },
      "source": [
        "### Upload a video file\n",
        "\n",
        "In this case, you'll use a short clip of [Big Buck Bunny](https://peach.blender.org/about/)."
      ]
    },
    {
      "cell_type": "code",
      "execution_count": null,
      "metadata": {
        "id": "e9ohtLxU-SFE",
        "outputId": "3b68f9ca-6a16-4744-a8e9-d1b36554fa2a"
      },
      "outputs": [
        {
          "name": "stdout",
          "output_type": "stream",
          "text": [
            "--2025-06-17 14:08:26--  https://storage.googleapis.com/generativeai-downloads/videos/Big_Buck_Bunny.mp4\n",
            "HTTP request sent, awaiting response... 200 OK\n",
            "Length: 64657027 (62M) [video/mp4]\n",
            "Saving to: ‘BigBuckBunny_320x180.mp4’\n",
            "\n",
            "BigBuckBunny_320x18 100%[===================>]  61.66M   195MB/s    in 0.3s    \n",
            "\n",
            "2025-06-17 14:08:27 (195 MB/s) - ‘BigBuckBunny_320x180.mp4’ saved [64657027/64657027]\n",
            "\n"
          ]
        }
      ],
      "source": [
        "# Download the video file\n",
        "VIDEO_URL = \"https://storage.googleapis.com/generativeai-downloads/videos/Big_Buck_Bunny.mp4\"  # @param {type: \"string\"}\n",
        "video_file_name = \"BigBuckBunny_320x180.mp4\"\n",
        "!wget -O {video_file_name} $VIDEO_URL"
      ]
    },
    {
      "cell_type": "markdown",
      "metadata": {
        "id": "iyFVXPspS5GF"
      },
      "source": [
        "Let's start by uploading the video file."
      ]
    },
    {
      "cell_type": "code",
      "execution_count": null,
      "metadata": {
        "id": "PY1WlxMk-0Uy",
        "outputId": "6dd733a1-2808-4815-dfad-1217eeff19f7"
      },
      "outputs": [
        {
          "name": "stdout",
          "output_type": "stream",
          "text": [
            "Completed upload: https://generativelanguage.googleapis.com/v1beta/files/uj1lvck4gb06\n"
          ]
        }
      ],
      "source": [
        "# Upload the file using the API\n",
        "video_file = client.files.upload(file=video_file_name)\n",
        "print(f\"Completed upload: {video_file.uri}\")"
      ]
    },
    {
      "cell_type": "markdown",
      "metadata": {
        "id": "_yRG9BPXS65b"
      },
      "source": [
        "> **Note:** The state of the video is important. The video must finish processing, so do check the state. Once the state of the video is `ACTIVE`, you're able to pass it into `generate_content`."
      ]
    },
    {
      "cell_type": "code",
      "execution_count": null,
      "metadata": {
        "id": "eEk4P3fK_OcJ",
        "outputId": "1a5e422e-a308-415e-ff20-2f3f944de7b7"
      },
      "outputs": [
        {
          "name": "stdout",
          "output_type": "stream",
          "text": [
            "Waiting for video to be processed.\n",
            "Waiting for video to be processed.\n",
            "Waiting for video to be processed.\n",
            "Video processing complete: https://generativelanguage.googleapis.com/v1beta/files/uj1lvck4gb06\n"
          ]
        }
      ],
      "source": [
        "import time\n",
        "\n",
        "# Check the file processing state\n",
        "while video_file.state == \"PROCESSING\":\n",
        "    print('Waiting for video to be processed.')\n",
        "    time.sleep(10)\n",
        "    video_file = client.files.get(name=video_file.name)\n",
        "\n",
        "if video_file.state == \"FAILED\":\n",
        "  raise ValueError(video_file.state)\n",
        "print(f'Video processing complete: ' + video_file.uri)"
      ]
    },
    {
      "cell_type": "code",
      "execution_count": null,
      "metadata": {
        "id": "oMz9GIuvAiCO",
        "outputId": "b4b4b9ef-d500-4996-a405-032ddc3096f2"
      },
      "outputs": [
        {
          "name": "stdout",
          "output_type": "stream",
          "text": [
            "FileState.ACTIVE\n"
          ]
        }
      ],
      "source": [
        "print(video_file.state)"
      ]
    },
    {
      "cell_type": "code",
      "execution_count": null,
      "metadata": {
        "id": "cX82TyGL-e2O",
        "outputId": "18479a93-72b4-42e7-b727-8633f54a0ff7"
      },
      "outputs": [
        {
          "data": {
            "text/markdown": [
              "This video opens with a serene shot of a grassy landscape under a soft sky, transitioning from dark to bright. A small stream flows through a lush green area dotted with purple and white flowers. A chubby blue bird perches on a tree branch, chirping happily. After briefly losing its balance, the bird falls, prompting the title card \"THE PEACH OPEN MOVIE PROJECT PRESENTS BIG BUCK BUNNY.\"\n",
              "\n",
              "The scene shifts to a large, plump gray rabbit named Big Buck Bunny, sleeping soundly in a burrow beneath a tree. He wakes up with a yawn and stretches, stepping out into the sunny meadow. He admires a pink butterfly and gently tries to kiss it, but the butterfly flits away. He then notices a fallen red apple and picks it up, preparing to eat it.\n",
              "\n",
              "Suddenly, three mischievous rodents, Frank the squirrel, Rinky the flying squirrel, and Gamera the chinchilla, appear and begin to tease the rabbit. Frank, with his buck teeth, and Rinky, with his scruffy appearance, throw pebbles and nuts at Big Buck Bunny, knocking the apple out of his hands and forcing him to hide behind the tree. They continue their harassment, throwing things at him and making fun of him as he tries to eat or enjoy his surroundings.\n",
              "\n",
              "Frustrated, Big Buck Bunny begins to devise a plan. He sharpens a stick into a spear and tests its strength, then uses a vine to create a makeshift bow. He then constructs a series of wooden spikes in the ground, camouflaging them with leaves. The rodents, unaware of the trap, continue to taunt him.\n",
              "\n",
              "Big Buck Bunny then positions himself in the tree above the spikes, aiming his arrow. As Frank tries to retrieve his acorn, Big Buck Bunny shoots, narrowly missing him. Frank and Rinky, surprised, scatter and hide behind a rock. Gamera is also momentarily frightened but quickly recovers his acorn.\n",
              "\n",
              "Big Buck Bunny continues his pursuit. He creates a booby trap by tying a rock to a vine and launching it towards the rodents, causing them to scatter. He then constructs a giant log trap, which narrowly misses Gamera. The rodents are visibly shaken by his increasing ingenuity.\n",
              "\n",
              "Rinky the flying squirrel, with a mischievous grin, prepares to launch himself from a tree branch, using his skin flaps to glide through the air. He targets Big Buck Bunny from above. As he approaches, Big Buck Bunny points upwards, startling Rinky and causing him to lose his focus. Rinky crashes into the spikes Big Buck Bunny had prepared earlier, getting caught on them.\n",
              "\n",
              "The chinchilla looks on in shock, while the other squirrel laughs, unaware of the fate that awaits him. Big Buck Bunny approaches Rinky, who is stuck to a wooden stick, and picks him up. The video then transitions to the credits, with the chinchilla and the squirrel rolling across the screen before coming to a stop. The credits roll, acknowledging the team and software used to create the animation. The video ends with the flying squirrel flying away, escaping the wrath of Big Buck Bunny."
            ],
            "text/plain": [
              "<IPython.core.display.Markdown object>"
            ]
          },
          "execution_count": 37,
          "metadata": {},
          "output_type": "execute_result"
        }
      ],
      "source": [
        "# Ask Gemini about the video\n",
        "response = client.models.generate_content(\n",
        "    model=MODEL_ID,\n",
        "    contents=[\n",
        "        video_file,\n",
        "        \"Describe this video.\",\n",
        "    ]\n",
        ")\n",
        "\n",
        "Markdown(response.text)"
      ]
    },
    {
      "cell_type": "markdown",
      "metadata": {
        "id": "65_qu3UsM8_M"
      },
      "source": [
        "### Process a YouTube link"
      ]
    },
    {
      "cell_type": "markdown",
      "metadata": {
        "id": "GXNlrAsZR7bB"
      },
      "source": [
        "For YouTube links, you don't need to explicitly upload the video file content, but you do need to explicitly declare the video URL you want the model to process as part of the `contents` of the request. For more information see the [vision](https://ai.google.dev/gemini-api/docs/vision?lang=python#youtube) documentation including the features and limits.\n",
        "\n",
        "> **Note:** You're only able to submit up to one YouTube link per `generate_content` request.\n",
        "\n",
        "> **Note:** If your text input includes YouTube links, the system won't process them, which may result in incorrect responses. To ensure proper handling, explicitly provide the URL using the `file_uri` parameter in `FileData`.\n",
        "\n",
        "The following example shows how you can use the model to summarize the video. In this case use a summary video of [Google I/O 2024](\"https://www.youtube.com/watch?v=WsEQjeZoEng\")."
      ]
    },
    {
      "cell_type": "code",
      "execution_count": null,
      "metadata": {
        "id": "zcqXUrYSTrLQ",
        "outputId": "c31544ca-a6eb-4170-b5d2-e1873ce24779"
      },
      "outputs": [
        {
          "data": {
            "text/markdown": [
              "This video provides a comprehensive overview of Google's latest advancements in AI, emphasizing the integration and capabilities of their Gemini models across various products and platforms.\n",
              "\n",
              "Here's a breakdown of the key announcements:\n",
              "\n",
              "*   **Gemini Era & Product Integration:** Google is fully in its \"Gemini era,\" with all 2 billion user products now utilizing Gemini. Gemini 1.5 Pro is currently available in Workspace Labs.\n",
              "*   **Enhanced Productivity with Gemini:**\n",
              "    *   **Gmail & Workspace:** Gemini can summarize recent emails and provide recaps of long Google Meet video recordings, highlighting key points and action items.\n",
              "    *   **Google Photos:** Gemini enhances photo search, allowing users to find specific moments or track progress (e.g., a child's swimming development) by understanding context across images and videos.\n",
              "*   **Technical Advancements in Gemini:**\n",
              "    *   **Multimodality:** Gemini is built from the ground up to be multimodal, processing text, images, video, and audio seamlessly within a single model.\n",
              "    *   **Long Context Window:** Gemini 1.5 Pro's context window has been expanded to a groundbreaking 2 million tokens, enabling it to process vast amounts of information simultaneously.\n",
              "    *   **Gemini 1.5 Flash:** A new, lighter-weight model designed for speed and efficiency, while still retaining multimodal reasoning and long context capabilities.\n",
              "*   **AI Agents (Project Astra):** Google is developing \"Project Astra,\" a universal AI agent designed to be helpful in everyday life. These agents exhibit reasoning, planning, memory, can think multiple steps ahead, work across different software and systems, and operate under user supervision. Demos show an agent understanding code, remembering object locations, and even suggesting creative names based on visual input.\n",
              "*   **Generative Video (Veo):** Google announced Veo, a new, highly capable generative video model that creates high-quality 1080p videos from text, image, and video prompts, capturing specific details and cinematic styles.\n",
              "*   **Hardware Innovation (Trillium):** The 6th generation of TPUs, named Trillium, was unveiled, boasting a 4.7x improvement in compute performance per chip over the previous generation.\n",
              "*   **AI in Google Search:** Google Search is evolving with generative AI, powered by a new customized Gemini model. This enables \"AI Overviews\" to answer complex, multi-faceted questions by synthesizing information from across the web in real-time, leveraging advanced ranking and quality systems, and incorporating agentive capabilities. Users can also ask questions using video input in Search.\n",
              "*   **Customizable AI Experts (Gems):** Gemini Advanced subscribers can now create \"Gems,\" personalized AI experts tailored to specific topics or needs. Users can provide instructions and upload large documents (up to 1,500 pages) or multiple files for the Gem to process and provide insights. Gemini Advanced now offers Gemini 1.5 Pro with a 1 million token context window.\n",
              "*   **AI in Android:** Gemini will become context-aware on Pixel phones later this year, using Gemini Nano with multimodality to understand the world through text, sight, sound, and spoken language, providing more helpful suggestions in the moment.\n",
              "*   **Open Models (Gemma & PaliGemma):** Google continues its commitment to open models with the Gemma family. PaliGemma, their first vision-language open model, is available now, and Gemma 2 (including a new 27 billion parameter model) is set to launch in June.\n",
              "*   **Responsible AI:** Google is dedicated to building AI responsibly through practices like \"Red Teaming\" (testing models to identify weaknesses) and developing models like LearnLM (a new family of models for learning) which power interactive educational features in YouTube videos, allowing users to ask clarifying questions, get explanations, and take quizzes.\n",
              "\n",
              "The video concludes with a reaffirmation of Google's bold and responsible approach to making AI helpful and accessible for everyone."
            ],
            "text/plain": [
              "<IPython.core.display.Markdown object>"
            ]
          },
          "execution_count": 38,
          "metadata": {},
          "output_type": "execute_result"
        }
      ],
      "source": [
        "response = client.models.generate_content(\n",
        "    model=MODEL_ID,\n",
        "    contents= types.Content(\n",
        "        parts=[\n",
        "            types.Part(text=\"Summarize this video.\"),\n",
        "            types.Part(\n",
        "                file_data=types.FileData(file_uri='https://www.youtube.com/watch?v=WsEQjeZoEng')\n",
        "            )\n",
        "        ]\n",
        "    )\n",
        ")\n",
        "\n",
        "Markdown(response.text)"
      ]
    },
    {
      "cell_type": "markdown",
      "metadata": {
        "id": "wyEmvUJfMkCR"
      },
      "source": [
        "### Use url context"
      ]
    },
    {
      "cell_type": "markdown",
      "metadata": {
        "id": "yr36dvTWQSAJ"
      },
      "source": [
        "The URL Context tool empowers Gemini models to directly access, process, and understand content from user-provided web page URLs. This is key for enabling dynamic agentic workflows, allowing models to independently research, analyze articles, and synthesize information from the web as part of their reasoning process.\n",
        "\n",
        "In this example you will use two links as reference and ask Gemini to find differences between the cook receipes present in each of the links:"
      ]
    },
    {
      "cell_type": "code",
      "execution_count": null,
      "metadata": {
        "id": "JgpP6_qTQeXR",
        "outputId": "7516dca2-7315-46f4-a63b-740f73436421"
      },
      "outputs": [
        {
          "data": {
            "text/markdown": [
              "Here's a comparison of the two cream of broccoli soup recipes, highlighting their key differences:\n",
              "\n",
              "**Recipe 1: Homemade Cream of Broccoli Soup (from Food.com)**\n",
              "**Recipe 2: Best Cream Of Broccoli Soup (from Allrecipes.com)**\n",
              "\n",
              "**Key Differences:**\n",
              "\n",
              "1.  **Aromatics:**\n",
              "    *   **Food.com:** Uses only 1/4 cup of chopped onion.\n",
              "    *   **Allrecipes.com:** Uses both 1 chopped onion and 1 chopped celery stalk.\n",
              "\n",
              "2.  **Broccoli Quantity:**\n",
              "    *   **Food.com:** Calls for 4 cups of broccoli florets.\n",
              "    *   **Allrecipes.com:** Uses a larger amount of broccoli, specifying 8 cups of broccoli florets.\n",
              "\n",
              "3.  **Liquid Base Amount:**\n",
              "    *   **Food.com:** Uses 6 cups of chicken broth.\n",
              "    *   **Allrecipes.com:** Uses 3 cups of chicken broth.\n",
              "\n",
              "4.  **Dairy and Richness:**\n",
              "    *   **Food.com:** Incorporates 3/4 cup of half-and-half at the end.\n",
              "    *   **Allrecipes.com:** Uses 2 cups of milk to create a roux that is added to the soup, and does not specify half-and-half.\n",
              "\n",
              "5.  **Roux Preparation and Integration:**\n",
              "    *   **Food.com:** Creates a roux by melting 6 tablespoons of butter with 2/3 cup of flour, setting it aside, and then whisking it into the boiling broth and broccoli mixture.\n",
              "    *   **Allrecipes.com:** Makes a roux by melting 3 tablespoons of butter, stirring in 3 tablespoons of flour, and then adding 2 cups of milk to cook until thick and bubbly. This thickened milk mixture is then added to the puréed soup.\n",
              "\n",
              "6.  **Soup Texture/Puréeing:**\n",
              "    *   **Food.com:** Does not explicitly instruct to purée the soup, suggesting a chunkier consistency with cooked broccoli pieces.\n",
              "    *   **Allrecipes.com:** Explicitly instructs to purée the soup using a blender (countertop or immersion) after simmering the vegetables, indicating a smoother, creamier final texture.\n",
              "\n",
              "7.  **Seasoning (Salt):**\n",
              "    *   **Food.com:** Specifies 1 teaspoon of salt as an ingredient.\n",
              "    *   **Allrecipes.com:** Only lists \"ground black pepper to taste\" and does not specify an amount of salt in the ingredients, implying it's added as per preference or derived from the broth."
            ],
            "text/plain": [
              "<IPython.core.display.Markdown object>"
            ]
          },
          "execution_count": 39,
          "metadata": {},
          "output_type": "execute_result"
        }
      ],
      "source": [
        "prompt = \"\"\"\n",
        "Compare recipes from https://www.food.com/recipe/homemade-cream-of-broccoli-soup-271210\n",
        "and from https://www.allrecipes.com/recipe/13313/best-cream-of-broccoli-soup/,\n",
        "list the key differences between them.\n",
        "\"\"\"\n",
        "\n",
        "tools = []\n",
        "tools.append(types.Tool(url_context=types.UrlContext))\n",
        "\n",
        "client = genai.Client(api_key=GEMINI_API_KEY)\n",
        "config = types.GenerateContentConfig(\n",
        "    tools=tools,\n",
        ")\n",
        "\n",
        "response = client.models.generate_content(\n",
        "      contents=[prompt],\n",
        "      model=MODEL_ID,\n",
        "      config=config\n",
        ")\n",
        "\n",
        "Markdown(response.text)"
      ]
    },
    {
      "cell_type": "markdown",
      "metadata": {
        "id": "oTgeR3_9wN5J"
      },
      "source": [
        "## Use context caching\n",
        "\n",
        "[Context caching](https://ai.google.dev/gemini-api/docs/caching?lang=python) lets you to store frequently used input tokens in a dedicated cache and reference them for subsequent requests, eliminating the need to repeatedly pass the same set of tokens to a model. You can find more caching examples [here](https://github.com/google-gemini/cookbook/blob/main/quickstarts/Caching.ipynb).\n",
        "\n",
        "Note that for models older than 2.5, you needed to use fixed version models (often ending with `-001`)."
      ]
    },
    {
      "cell_type": "markdown",
      "metadata": {
        "id": "Tgl2gzmuwQXz"
      },
      "source": [
        "#### Create a cache"
      ]
    },
    {
      "cell_type": "code",
      "execution_count": null,
      "metadata": {
        "id": "b2Jb0gaiwOVi"
      },
      "outputs": [],
      "source": [
        "system_instruction = \"\"\"\n",
        "  You are an expert researcher who has years of experience in conducting systematic literature surveys and meta-analyses of different topics.\n",
        "  You pride yourself on incredible accuracy and attention to detail. You always stick to the facts in the sources provided, and never make up new facts.\n",
        "  Now look at the research paper below, and answer the following questions in 1-2 sentences.\n",
        "\"\"\"\n",
        "\n",
        "urls = [\n",
        "    'https://storage.googleapis.com/cloud-samples-data/generative-ai/pdf/2312.11805v3.pdf',\n",
        "    \"https://storage.googleapis.com/cloud-samples-data/generative-ai/pdf/2403.05530.pdf\",\n",
        "]"
      ]
    },
    {
      "cell_type": "code",
      "execution_count": null,
      "metadata": {
        "id": "ZrZ64o5Sydm_",
        "outputId": "92d2522f-fa4e-4e5b-a19d-03b8fad34cfd"
      },
      "outputs": [
        {
          "data": {
            "text/plain": [
              "7228817"
            ]
          },
          "execution_count": 9,
          "metadata": {},
          "output_type": "execute_result"
        }
      ],
      "source": [
        "# Download files\n",
        "pdf_bytes = requests.get(urls[0]).content\n",
        "pdf_path = pathlib.Path('2312.11805v3.pdf')\n",
        "pdf_path.write_bytes(pdf_bytes)\n",
        "\n",
        "pdf_bytes = requests.get(urls[1]).content\n",
        "pdf_path = pathlib.Path('2403.05530.pdf')\n",
        "pdf_path.write_bytes(pdf_bytes)"
      ]
    },
    {
      "cell_type": "code",
      "execution_count": null,
      "metadata": {
        "id": "ZrylX7r3w2bF"
      },
      "outputs": [],
      "source": [
        "# Upload the PDFs using the File API\n",
        "uploaded_pdfs = []\n",
        "uploaded_pdfs.append(client.files.upload(file='2312.11805v3.pdf'))\n",
        "uploaded_pdfs.append(client.files.upload(file='2403.05530.pdf'))"
      ]
    },
    {
      "cell_type": "code",
      "execution_count": null,
      "metadata": {
        "id": "7MBsaipow7m5",
        "outputId": "fcda3412-c29c-4a5d-da81-7e51a1248a0e"
      },
      "outputs": [
        {
          "data": {
            "text/plain": [
              "CachedContent(name='cachedContents/002vsb4ehmazdhpx0kpmkvfzsnkwufhwyy5k3equ', display_name='research papers', model='models/gemini-2.5-flash-lite-preview-06-17', create_time=datetime.datetime(2025, 6, 17, 15, 49, 28, 615262, tzinfo=TzInfo(UTC)), update_time=datetime.datetime(2025, 6, 17, 15, 49, 28, 615262, tzinfo=TzInfo(UTC)), expire_time=datetime.datetime(2025, 6, 17, 16, 49, 27, 258741, tzinfo=TzInfo(UTC)), usage_metadata=CachedContentUsageMetadata(audio_duration_seconds=None, image_count=None, text_count=None, total_token_count=43167, video_duration_seconds=None))"
            ]
          },
          "execution_count": 11,
          "metadata": {},
          "output_type": "execute_result"
        }
      ],
      "source": [
        "# Create a cache with a 60 minute TTL\n",
        "cached_content = client.caches.create(\n",
        "    model=MODEL_ID,\n",
        "    config=types.CreateCachedContentConfig(\n",
        "      display_name='research papers', # used to identify the cache\n",
        "      system_instruction=system_instruction,\n",
        "      contents=uploaded_pdfs,\n",
        "      ttl=\"3600s\",\n",
        "  )\n",
        ")\n",
        "\n",
        "cached_content"
      ]
    },
    {
      "cell_type": "markdown",
      "metadata": {
        "id": "2870527e1c84"
      },
      "source": [
        "#### Listing available cache objects"
      ]
    },
    {
      "cell_type": "code",
      "execution_count": null,
      "metadata": {
        "id": "3be7c2339be3",
        "outputId": "5587ba17-a42f-415c-bd32-b659cdb44f84"
      },
      "outputs": [
        {
          "name": "stdout",
          "output_type": "stream",
          "text": [
            "name='cachedContents/002vsb4ehmazdhpx0kpmkvfzsnkwufhwyy5k3equ' display_name='research papers' model='models/gemini-2.5-flash-lite-preview-06-17' create_time=datetime.datetime(2025, 6, 17, 15, 49, 28, 615262, tzinfo=TzInfo(UTC)) update_time=datetime.datetime(2025, 6, 17, 15, 49, 28, 615262, tzinfo=TzInfo(UTC)) expire_time=datetime.datetime(2025, 6, 17, 16, 49, 27, 258741, tzinfo=TzInfo(UTC)) usage_metadata=CachedContentUsageMetadata(audio_duration_seconds=None, image_count=None, text_count=None, total_token_count=43167, video_duration_seconds=None)\n"
          ]
        }
      ],
      "source": [
        "for cache in client.caches.list():\n",
        "  print(cache)"
      ]
    },
    {
      "cell_type": "markdown",
      "metadata": {
        "id": "KKgCRRXfwU_m"
      },
      "source": [
        "#### Use a cache"
      ]
    },
    {
      "cell_type": "code",
      "execution_count": null,
      "metadata": {
        "id": "-Qo7-sU2w92j",
        "outputId": "c2047d67-a38e-40d0-8966-fedf6d4f5e8c"
      },
      "outputs": [
        {
          "data": {
            "text/markdown": [
              "The research goal shared by these papers is to advance the capabilities of large language models, particularly in multimodal understanding and handling long contexts. The papers aim to improve efficiency, reasoning, and the ability to process and understand complex, varied, and extensive data inputs across different modalities like text, image, audio, and video."
            ],
            "text/plain": [
              "<IPython.core.display.Markdown object>"
            ]
          },
          "execution_count": 13,
          "metadata": {},
          "output_type": "execute_result"
        }
      ],
      "source": [
        "response = client.models.generate_content(\n",
        "  model=MODEL_ID,\n",
        "  contents=\"What is the research goal shared by these research papers?\",\n",
        "  config=types.GenerateContentConfig(cached_content=cached_content.name)\n",
        ")\n",
        "\n",
        "Markdown(response.text)"
      ]
    },
    {
      "cell_type": "markdown",
      "metadata": {
        "id": "4QSOsWurx4CG"
      },
      "source": [
        "#### Delete a cache"
      ]
    },
    {
      "cell_type": "code",
      "execution_count": null,
      "metadata": {
        "id": "zSZeG60Dx4V-"
      },
      "outputs": [],
      "source": [
        "result = client.caches.delete(name=cached_content.name)"
      ]
    },
    {
      "cell_type": "markdown",
      "metadata": {
        "id": "sXNCRn8Wx71d"
      },
      "source": [
        "## Get text embeddings\n",
        "\n",
        "You can get text embeddings for a snippet of text by using `embed_content` method and using the `gemini-embedding-001` model.\n",
        "\n",
        "The Gemini Embeddings model produces an output with 3072 dimensions by default. However, you've the option to choose an output dimensionality between 1 and 3072. See the [embeddings guide](https://ai.google.dev/gemini-api/docs/embeddings) for more details."
      ]
    },
    {
      "cell_type": "code",
      "execution_count": null,
      "metadata": {
        "id": "hpJIA5zmx8Vy"
      },
      "outputs": [],
      "source": [
        "TEXT_EMBEDDING_MODEL_ID = \"gemini-embedding-001\" # @param [\"gemini-embedding-001\", \"text-embedding-004\"] {\"allow-input\":true, isTemplate: true}"
      ]
    },
    {
      "cell_type": "code",
      "execution_count": null,
      "metadata": {
        "id": "0afi69R9x_bh",
        "outputId": "c59227da-b760-4faf-b160-2880125c2599"
      },
      "outputs": [
        {
          "name": "stdout",
          "output_type": "stream",
          "text": [
            "[ContentEmbedding(\n",
            "  values=[\n",
            "    -0.0015945111,\n",
            "    0.0067519513,\n",
            "    0.017575769,\n",
            "    -0.010327714,\n",
            "    -0.009956204,\n",
            "    <... 3067 more items ...>,\n",
            "  ]\n",
            "), ContentEmbedding(\n",
            "  values=[\n",
            "    -0.007576517,\n",
            "    -0.0059903963,\n",
            "    -0.0032700377,\n",
            "    -0.017510215,\n",
            "    -0.023507025,\n",
            "    <... 3067 more items ...>,\n",
            "  ]\n",
            "), ContentEmbedding(\n",
            "  values=[\n",
            "    0.011074519,\n",
            "    -0.02361123,\n",
            "    0.0022912885,\n",
            "    -0.009060789,\n",
            "    -0.0057736747,\n",
            "    <... 3067 more items ...>,\n",
            "  ]\n",
            ")]\n"
          ]
        }
      ],
      "source": [
        "response = client.models.embed_content(\n",
        "    model=TEXT_EMBEDDING_MODEL_ID,\n",
        "    contents=[\n",
        "        \"How do I get a driver's license/learner's permit?\",\n",
        "        \"How do I renew my driver's license?\",\n",
        "        \"How do I change my address on my driver's license?\"\n",
        "        ],\n",
        ")\n",
        "\n",
        "print(response.embeddings)"
      ]
    },
    {
      "cell_type": "markdown",
      "metadata": {
        "id": "Tje8pMbd5z7j"
      },
      "source": [
        "You'll get a set of three embeddings, one for each piece of text you passed in:"
      ]
    },
    {
      "cell_type": "code",
      "execution_count": null,
      "metadata": {
        "id": "zNeuBlNt4CRk",
        "outputId": "8ba84de4-507a-4fab-f43a-f4283c9408ce"
      },
      "outputs": [
        {
          "data": {
            "text/plain": [
              "3"
            ]
          },
          "execution_count": 10,
          "metadata": {},
          "output_type": "execute_result"
        }
      ],
      "source": [
        "len(response.embeddings)"
      ]
    },
    {
      "cell_type": "markdown",
      "metadata": {
        "id": "hG5UPmq3543E"
      },
      "source": [
        "You can also see the length of each embedding is 3072, The default size."
      ]
    },
    {
      "cell_type": "code",
      "execution_count": null,
      "metadata": {
        "id": "s4oAtC8a4GYH",
        "outputId": "a868481b-3c4e-4c7e-f65b-2bf3844e7325"
      },
      "outputs": [
        {
          "name": "stdout",
          "output_type": "stream",
          "text": [
            "3072\n",
            "([-0.0015945111, 0.0067519513, 0.017575769, -0.010327714], '...')\n"
          ]
        }
      ],
      "source": [
        "print(len(response.embeddings[0].values))\n",
        "print((response.embeddings[0].values[:4], '...'))"
      ]
    },
    {
      "cell_type": "markdown",
      "metadata": {
        "id": "_SOkIVJIyF1W"
      },
      "source": [
        "## Next Steps\n",
        "\n",
        "For more information about the Gemini Embedding model, take a look at the [Embeddings.ipynb](./Embeddings.ipynb) notebook.\n",
        "\n",
        "### Useful API references:\n",
        "\n",
        "Check out the [Google GenAI SDK](https://github.com/googleapis/python-genai) for more details on the new SDK.\n",
        "\n",
        "### Related examples\n",
        "\n",
        "For more detailed examples using Gemini models, check the [Quickstarts folder of the cookbook](https://github.com/google-gemini/cookbook/tree/main/quickstarts/). You'll learn how to use the [Live API](./Get_started_LiveAPI.ipynb), juggle with [multiple tools](../examples/LiveAPI_plotting_and_mapping.ipynb) or use Gemini's [spatial understanding](./Spatial_understanding.ipynb) abilities.\n",
        "\n",
        "Also check the [Gemini thinking models](./Get_started_thinking.ipynb) that explicitly showcases its thoughts summaries and can manage more complex reasonings."
      ]
    }
  ],
  "metadata": {
    "colab": {
      "name": "Get_started.ipynb",
      "toc_visible": true,
      "provenance": []
    },
    "kernelspec": {
      "display_name": "Python 3",
      "name": "python3"
    }
  },
  "nbformat": 4,
  "nbformat_minor": 0
}